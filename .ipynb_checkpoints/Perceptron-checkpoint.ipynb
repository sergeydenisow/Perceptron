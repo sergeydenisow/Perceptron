{
 "cells": [
  {
   "cell_type": "markdown",
   "metadata": {
    "tags": []
   },
   "source": [
    "# Линейная регрессия."
   ]
  },
  {
   "cell_type": "code",
   "execution_count": 1,
   "metadata": {
    "ExecuteTime": {
     "end_time": "2019-11-06T12:28:34.900077Z",
     "start_time": "2019-11-06T12:28:34.399089Z"
    }
   },
   "outputs": [],
   "source": [
    "import numpy as np\n",
    "import pandas as pd\n",
    "import torch\n",
    "from torch import autograd\n",
    "\n",
    "import matplotlib.pyplot as plt"
   ]
  },
  {
   "cell_type": "markdown",
   "metadata": {},
   "source": [
    "## Зарузка данных.\n",
    "\n",
    "Стоимость недвижимости в Калифорнии."
   ]
  },
  {
   "cell_type": "code",
   "execution_count": 2,
   "metadata": {},
   "outputs": [],
   "source": [
    "from sklearn.datasets import fetch_california_housing\n",
    "housing = fetch_california_housing()"
   ]
  },
  {
   "cell_type": "code",
   "execution_count": 3,
   "metadata": {},
   "outputs": [
    {
     "data": {
      "text/plain": [
       "((20640, 8), (20640,))"
      ]
     },
     "execution_count": 3,
     "metadata": {},
     "output_type": "execute_result"
    }
   ],
   "source": [
    "housing.data.shape, housing.target.shape"
   ]
  },
  {
   "cell_type": "code",
   "execution_count": 4,
   "metadata": {},
   "outputs": [
    {
     "data": {
      "text/plain": [
       "(numpy.ndarray, numpy.ndarray)"
      ]
     },
     "execution_count": 4,
     "metadata": {},
     "output_type": "execute_result"
    }
   ],
   "source": [
    "type(housing.data), type(housing.target)"
   ]
  },
  {
   "cell_type": "code",
   "execution_count": 5,
   "metadata": {},
   "outputs": [],
   "source": [
    "from sklearn.preprocessing import StandardScaler "
   ]
  },
  {
   "cell_type": "code",
   "execution_count": 6,
   "metadata": {},
   "outputs": [],
   "source": [
    "scaler = StandardScaler()"
   ]
  },
  {
   "cell_type": "code",
   "execution_count": 7,
   "metadata": {},
   "outputs": [],
   "source": [
    "data = scaler.fit_transform(housing.data, housing.target)"
   ]
  },
  {
   "cell_type": "code",
   "execution_count": 8,
   "metadata": {},
   "outputs": [
    {
     "data": {
      "text/plain": [
       "array([[ 2.34476576,  0.98214266,  0.62855945, ..., -0.04959654,\n",
       "         1.05254828, -1.32783522],\n",
       "       [ 2.33223796, -0.60701891,  0.32704136, ..., -0.09251223,\n",
       "         1.04318455, -1.32284391],\n",
       "       [ 1.7826994 ,  1.85618152,  1.15562047, ..., -0.02584253,\n",
       "         1.03850269, -1.33282653],\n",
       "       ...,\n",
       "       [-1.14259331, -0.92485123, -0.09031802, ..., -0.0717345 ,\n",
       "         1.77823747, -0.8237132 ],\n",
       "       [-1.05458292, -0.84539315, -0.04021111, ..., -0.09122515,\n",
       "         1.77823747, -0.87362627],\n",
       "       [-0.78012947, -1.00430931, -0.07044252, ..., -0.04368215,\n",
       "         1.75014627, -0.83369581]])"
      ]
     },
     "execution_count": 8,
     "metadata": {},
     "output_type": "execute_result"
    }
   ],
   "source": [
    "data"
   ]
  },
  {
   "cell_type": "code",
   "execution_count": 10,
   "metadata": {},
   "outputs": [],
   "source": [
    "# data = torch.tensor(housing.data)\n",
    "# target = torch.tensor(housing.target)\n",
    "# data.shape, target.shape"
   ]
  },
  {
   "cell_type": "code",
   "execution_count": 11,
   "metadata": {},
   "outputs": [],
   "source": [
    "data = torch.from_numpy(data).float()\n",
    "target = torch.from_numpy(housing.target).float()"
   ]
  },
  {
   "cell_type": "code",
   "execution_count": 12,
   "metadata": {},
   "outputs": [
    {
     "data": {
      "text/plain": [
       "(torch.Size([20640, 8]), torch.Size([20640]))"
      ]
     },
     "execution_count": 12,
     "metadata": {},
     "output_type": "execute_result"
    }
   ],
   "source": [
    "data.shape, target.shape"
   ]
  },
  {
   "cell_type": "code",
   "execution_count": null,
   "metadata": {},
   "outputs": [],
   "source": []
  },
  {
   "cell_type": "markdown",
   "metadata": {},
   "source": [
    "## Визуализируем данные"
   ]
  },
  {
   "cell_type": "code",
   "execution_count": 13,
   "metadata": {
    "ExecuteTime": {
     "end_time": "2019-11-06T13:41:59.728821Z",
     "start_time": "2019-11-06T13:41:59.450748Z"
    }
   },
   "outputs": [],
   "source": [
    "# plt.figure(figsize=(12, 4))\n",
    "# plt.subplot(131)\n",
    "# plt.scatter(features[:, 0], labels, 1)\n",
    "# plt.subplot(132)\n",
    "# plt.scatter(features[:, 1], labels, 1)\n",
    "# plt.subplot(133)\n",
    "# plt.scatter(features[:, 0], features[:, 1], 1)\n",
    "# plt.show()"
   ]
  },
  {
   "cell_type": "markdown",
   "metadata": {
    "ExecuteTime": {
     "end_time": "2019-11-06T12:40:23.439886Z",
     "start_time": "2019-11-06T12:40:23.437308Z"
    }
   },
   "source": [
    "## Линейная регрессия на torch"
   ]
  },
  {
   "cell_type": "code",
   "execution_count": 14,
   "metadata": {
    "ExecuteTime": {
     "end_time": "2019-11-06T13:52:12.812804Z",
     "start_time": "2019-11-06T13:52:12.809805Z"
    }
   },
   "outputs": [],
   "source": [
    "from torch.utils.data import TensorDataset, DataLoader"
   ]
  },
  {
   "cell_type": "code",
   "execution_count": 15,
   "metadata": {
    "ExecuteTime": {
     "end_time": "2019-11-06T13:52:13.355499Z",
     "start_time": "2019-11-06T13:52:13.348636Z"
    }
   },
   "outputs": [],
   "source": [
    "batch_size = 16\n",
    "dataset = TensorDataset(data, target)\n",
    "\n",
    "# data_iter = DataLoader(dataset, batch_size)\n",
    "\n"
   ]
  },
  {
   "cell_type": "code",
   "execution_count": 56,
   "metadata": {
    "ExecuteTime": {
     "end_time": "2019-11-06T13:52:13.120962Z",
     "start_time": "2019-11-06T13:52:13.116472Z"
    }
   },
   "outputs": [],
   "source": [
    "train_size = int(0.7 * len(dataset))\n",
    "test_size = len(dataset) - train_size\n",
    "train_dataset, test_dataset = torch.utils.data.random_split(dataset, [train_size, test_size])"
   ]
  },
  {
   "cell_type": "code",
   "execution_count": 78,
   "metadata": {},
   "outputs": [
    {
     "data": {
      "text/plain": [
       "(14447, 6193)"
      ]
     },
     "execution_count": 78,
     "metadata": {},
     "output_type": "execute_result"
    }
   ],
   "source": [
    "len(train_dataset), len(test_dataset)"
   ]
  },
  {
   "cell_type": "code",
   "execution_count": 59,
   "metadata": {},
   "outputs": [],
   "source": [
    "X_train, y_train = train_dataset.dataset.tensors[0], train_dataset.dataset.tensors[1]\n",
    "X_test, y_test = test_dataset.dataset.tensors[0], test_dataset.dataset.tensors[1]"
   ]
  },
  {
   "cell_type": "code",
   "execution_count": 82,
   "metadata": {},
   "outputs": [
    {
     "data": {
      "text/plain": [
       "20640"
      ]
     },
     "execution_count": 82,
     "metadata": {},
     "output_type": "execute_result"
    }
   ],
   "source": [
    "len(train_dataset.dataset.tensors[1])"
   ]
  },
  {
   "cell_type": "code",
   "execution_count": 84,
   "metadata": {},
   "outputs": [],
   "source": [
    "# Randomly reading mini-batches\n",
    "data_train = DataLoader(train_dataset, batch_size, shuffle=True)\n",
    "data_test = DataLoader(test_dataset, batch_size)"
   ]
  },
  {
   "cell_type": "code",
   "execution_count": 29,
   "metadata": {},
   "outputs": [
    {
     "name": "stdout",
     "output_type": "stream",
     "text": [
      "tensor([[-0.1951,  1.3794, -0.2751,  0.0321, -0.9214, -0.0384, -0.6376,  0.1596],\n",
      "        [-0.1786, -0.2097, -0.4395, -0.1233, -0.4790, -0.0634, -0.8577,  0.6986],\n",
      "        [-0.5241,  1.0616, -0.4627, -0.0755,  0.5409,  0.0364, -0.7874,  0.6038],\n",
      "        [-1.1821, -0.2097,  0.0691, -0.6260, -1.2508, -0.1223,  0.9917, -0.6390],\n",
      "        [-1.1206,  1.3794, -0.0574, -0.0483, -0.8967,  0.0279,  1.5067, -1.0483],\n",
      "        [-0.7171,  0.9821, -0.4689, -0.3059, -0.6971,  0.1267, -0.7968,  0.6787],\n",
      "        [-0.0284, -0.6070,  0.2913,  0.1092,  0.6928, -0.0186, -0.7312,  0.8484],\n",
      "        [ 0.3133,  0.2670, -0.0434, -0.0500, -0.0675,  0.0554, -0.8155,  0.6487],\n",
      "        [-0.3450,  1.0616, -0.2609, -0.0976,  0.4544, -0.0185,  0.8091, -1.1681],\n",
      "        [-0.2773,  1.8562, -0.3094, -0.1127, -0.7925, -0.0512,  1.0057, -1.3428],\n",
      "        [ 0.1661, -1.1632, -0.5474, -0.1043, -0.2062, -0.1207, -0.8951,  0.7585],\n",
      "        [ 0.3793,  1.6178,  0.1291, -0.1107, -0.5788, -0.0435,  0.9776, -1.4476],\n",
      "        [-0.8136,  0.2670,  0.3702, -0.0169, -0.7625, -0.0291,  1.9421, -1.2929],\n",
      "        [-0.3783, -0.6070, -0.3805, -0.1723,  0.7246,  0.2450, -0.8998,  0.8534],\n",
      "        [ 0.4210, -0.7659,  0.3883,  0.0837, -0.5064, -0.0293,  1.3101, -1.6672],\n",
      "        [-0.2061,  0.4259, -0.3252, -0.1593, -0.4490, -0.0621, -0.7921,  0.7685]]) tensor([2.2120, 1.8750, 1.7750, 0.8500, 1.1040, 1.1810, 2.5870, 1.3810, 1.9970,\n",
      "        2.0130, 1.8890, 2.5970, 0.6960, 1.5280, 2.6980, 1.6900])\n"
     ]
    }
   ],
   "source": [
    "# Read a batch to see how it works\n",
    "for X, y in data_iter:\n",
    "    print(X, y)\n",
    "    break"
   ]
  },
  {
   "cell_type": "code",
   "execution_count": 30,
   "metadata": {
    "ExecuteTime": {
     "end_time": "2019-11-06T15:01:54.637870Z",
     "start_time": "2019-11-06T15:01:54.634430Z"
    }
   },
   "outputs": [],
   "source": [
    "model = torch.nn.Sequential(torch.nn.Linear(8, 1))"
   ]
  },
  {
   "cell_type": "code",
   "execution_count": 100,
   "metadata": {},
   "outputs": [],
   "source": [
    "model[0].weight.data = torch.rand((1,8), requires_grad=True)\n",
    "model[0].bias.data = torch.rand(1, requires_grad=True)"
   ]
  },
  {
   "cell_type": "code",
   "execution_count": 84,
   "metadata": {},
   "outputs": [
    {
     "data": {
      "text/plain": [
       "(tensor([[0.8211, 0.5216, 0.5485, 0.0045, 0.3370, 0.1420, 0.9658, 0.8474]]),\n",
       " tensor([0.5614]))"
      ]
     },
     "execution_count": 84,
     "metadata": {},
     "output_type": "execute_result"
    }
   ],
   "source": [
    "model[0].weight.data, model[0].bias.data"
   ]
  },
  {
   "cell_type": "code",
   "execution_count": 85,
   "metadata": {
    "ExecuteTime": {
     "end_time": "2019-11-06T15:00:35.708316Z",
     "start_time": "2019-11-06T15:00:35.704362Z"
    },
    "scrolled": true
   },
   "outputs": [],
   "source": [
    "# model[0].weight.data = torch.zeros((1, 8), requires_grad=True)\n",
    "# model[0].bias.data = torch.zeros(1, requires_grad=True)"
   ]
  },
  {
   "cell_type": "code",
   "execution_count": 86,
   "metadata": {
    "ExecuteTime": {
     "end_time": "2019-11-06T15:01:56.233161Z",
     "start_time": "2019-11-06T15:01:56.230196Z"
    }
   },
   "outputs": [],
   "source": [
    "loss = torch.nn.MSELoss(reduction='mean')"
   ]
  },
  {
   "cell_type": "code",
   "execution_count": 87,
   "metadata": {
    "ExecuteTime": {
     "end_time": "2019-11-06T15:01:59.643238Z",
     "start_time": "2019-11-06T15:01:59.640268Z"
    }
   },
   "outputs": [],
   "source": [
    "trainer = torch.optim.RMSprop(model.parameters(), lr=0.0001)"
   ]
  },
  {
   "cell_type": "code",
   "execution_count": 88,
   "metadata": {
    "ExecuteTime": {
     "end_time": "2019-11-06T15:02:03.375656Z",
     "start_time": "2019-11-06T15:02:00.252186Z"
    }
   },
   "outputs": [
    {
     "name": "stderr",
     "output_type": "stream",
     "text": [
      "/home/sergey/.local/lib/python3.10/site-packages/torch/nn/modules/loss.py:530: UserWarning: Using a target size (torch.Size([16])) that is different to the input size (torch.Size([16, 1])). This will likely lead to incorrect results due to broadcasting. Please ensure they have the same size.\n",
      "  return F.mse_loss(input, target, reduction=self.reduction)\n",
      "/home/sergey/.local/lib/python3.10/site-packages/torch/nn/modules/loss.py:530: UserWarning: Using a target size (torch.Size([20640])) that is different to the input size (torch.Size([20640, 1])). This will likely lead to incorrect results due to broadcasting. Please ensure they have the same size.\n",
      "  return F.mse_loss(input, target, reduction=self.reduction)\n"
     ]
    },
    {
     "name": "stdout",
     "output_type": "stream",
     "text": [
      "epoch 1, loss: 4.215921\n",
      "w tensor([[ 0.7040,  0.4776,  0.4823, -0.0271,  0.3042,  0.1249,  0.9280,  0.8668]])\n",
      "b tensor([0.6985])\n",
      "epoch 2, loss: 3.653850\n",
      "w tensor([[ 0.5977,  0.4364,  0.4388, -0.0458,  0.2735,  0.1195,  0.9008,  0.8717]])\n",
      "b tensor([0.8238])\n",
      "epoch 3, loss: 3.177130\n",
      "w tensor([[ 0.4950,  0.3965,  0.4040, -0.0611,  0.2456,  0.1141,  0.8760,  0.8683]])\n",
      "b tensor([0.9483])\n",
      "epoch 4, loss: 2.748645\n",
      "w tensor([[ 0.3956,  0.3533,  0.3545, -0.0831,  0.2143,  0.1077,  0.8539,  0.8570]])\n",
      "b tensor([1.0720])\n",
      "epoch 5, loss: 2.394890\n",
      "w tensor([[ 0.3023,  0.3090,  0.3107, -0.1034,  0.1844,  0.1009,  0.8302,  0.8386]])\n",
      "b tensor([1.1944])\n",
      "epoch 6, loss: 2.102609\n",
      "w tensor([[ 0.2165,  0.2669,  0.2586, -0.1290,  0.1526,  0.0950,  0.8063,  0.8159]])\n",
      "b tensor([1.3144])\n",
      "epoch 7, loss: 1.871902\n",
      "w tensor([[ 0.1540,  0.2248,  0.1971, -0.1596,  0.1254,  0.0725,  0.7779,  0.7881]])\n",
      "b tensor([1.4321])\n",
      "epoch 8, loss: 1.708393\n",
      "w tensor([[ 0.1164,  0.1838,  0.1489, -0.1713,  0.0951,  0.0670,  0.7461,  0.7543]])\n",
      "b tensor([1.5450])\n",
      "epoch 9, loss: 1.589763\n",
      "w tensor([[ 0.0952,  0.1507,  0.1207, -0.1721,  0.0722,  0.0542,  0.7093,  0.7191]])\n",
      "b tensor([1.6515])\n",
      "epoch 10, loss: 1.505504\n",
      "w tensor([[ 0.0888,  0.1242,  0.1017, -0.1683,  0.0526,  0.0492,  0.6673,  0.6792]])\n",
      "b tensor([1.7500])\n",
      "epoch 11, loss: 1.448904\n",
      "w tensor([[ 0.0852,  0.1041,  0.0876, -0.1617,  0.0348,  0.0424,  0.6284,  0.6332]])\n",
      "b tensor([1.8345])\n",
      "epoch 12, loss: 1.412423\n",
      "w tensor([[ 0.0807,  0.0890,  0.0780, -0.1538,  0.0261,  0.0364,  0.5848,  0.5882]])\n",
      "b tensor([1.9044])\n",
      "epoch 13, loss: 1.389936\n",
      "w tensor([[ 0.0787,  0.0806,  0.0635, -0.1433,  0.0236,  0.0314,  0.5391,  0.5411]])\n",
      "b tensor([1.9577])\n",
      "epoch 14, loss: 1.377313\n",
      "w tensor([[ 0.0813,  0.0753,  0.0619, -0.1357,  0.0251,  0.0262,  0.4949,  0.4988]])\n",
      "b tensor([1.9938])\n",
      "epoch 15, loss: 1.368342\n",
      "w tensor([[ 0.0790,  0.0726,  0.0593, -0.1281,  0.0193,  0.0208,  0.4540,  0.4553]])\n",
      "b tensor([2.0197])\n",
      "epoch 16, loss: 1.361047\n",
      "w tensor([[ 0.0732,  0.0659,  0.0549, -0.1177,  0.0196,  0.0108,  0.4132,  0.4169]])\n",
      "b tensor([2.0371])\n",
      "epoch 17, loss: 1.355919\n",
      "w tensor([[ 0.0714,  0.0615,  0.0527, -0.1071,  0.0199,  0.0060,  0.3744,  0.3788]])\n",
      "b tensor([2.0484])\n",
      "epoch 18, loss: 1.351684\n",
      "w tensor([[ 0.0698,  0.0548,  0.0490, -0.0970,  0.0140,  0.0015,  0.3364,  0.3418]])\n",
      "b tensor([2.0555])\n",
      "epoch 19, loss: 1.348280\n",
      "w tensor([[ 0.0669,  0.0517,  0.0440, -0.0891,  0.0156, -0.0056,  0.3037,  0.3057]])\n",
      "b tensor([2.0602])\n",
      "epoch 20, loss: 1.345606\n",
      "w tensor([[ 0.0686,  0.0497,  0.0392, -0.0765,  0.0175, -0.0087,  0.2703,  0.2722]])\n",
      "b tensor([2.0633])\n",
      "epoch 21, loss: 1.343695\n",
      "w tensor([[ 0.0682,  0.0465,  0.0351, -0.0684,  0.0119, -0.0194,  0.2395,  0.2423]])\n",
      "b tensor([2.0647])\n",
      "epoch 22, loss: 1.340826\n",
      "w tensor([[ 0.0605,  0.0389,  0.0293, -0.0560,  0.0125, -0.0197,  0.2123,  0.2127]])\n",
      "b tensor([2.0656])\n",
      "epoch 23, loss: 1.339460\n",
      "w tensor([[ 0.0610,  0.0385,  0.0222, -0.0502,  0.0128, -0.0177,  0.1832,  0.1871]])\n",
      "b tensor([2.0657])\n",
      "epoch 24, loss: 1.338371\n",
      "w tensor([[ 0.0626,  0.0343,  0.0165, -0.0422,  0.0100, -0.0168,  0.1602,  0.1621]])\n",
      "b tensor([2.0669])\n",
      "epoch 25, loss: 1.337506\n",
      "w tensor([[ 0.0639,  0.0317,  0.0129, -0.0323,  0.0052, -0.0157,  0.1391,  0.1403]])\n",
      "b tensor([2.0678])\n",
      "epoch 26, loss: 1.336854\n",
      "w tensor([[ 0.0651,  0.0315,  0.0068, -0.0239,  0.0101, -0.0166,  0.1189,  0.1195]])\n",
      "b tensor([2.0679])\n",
      "epoch 27, loss: 1.335692\n",
      "w tensor([[ 0.0609,  0.0263, -0.0016, -0.0159,  0.0070, -0.0154,  0.0997,  0.1031]])\n",
      "b tensor([2.0681])\n",
      "epoch 28, loss: 1.336038\n",
      "w tensor([[ 0.0644,  0.0303, -0.0055, -0.0101,  0.0069, -0.0232,  0.0848,  0.0883]])\n",
      "b tensor([2.0684])\n",
      "epoch 29, loss: 1.335124\n",
      "w tensor([[ 0.0611,  0.0246, -0.0101, -0.0020,  0.0091, -0.0209,  0.0715,  0.0723]])\n",
      "b tensor([2.0684])\n",
      "epoch 30, loss: 1.335089\n",
      "w tensor([[ 0.0628,  0.0208, -0.0119,  0.0037,  0.0064, -0.0214,  0.0570,  0.0590]])\n",
      "b tensor([2.0679])\n",
      "epoch 31, loss: 1.334594\n",
      "w tensor([[ 0.0608,  0.0201, -0.0179,  0.0095,  0.0056, -0.0190,  0.0455,  0.0469]])\n",
      "b tensor([2.0688])\n",
      "epoch 32, loss: 1.334515\n",
      "w tensor([[ 0.0604,  0.0214, -0.0218,  0.0115,  0.0041, -0.0189,  0.0366,  0.0361]])\n",
      "b tensor([2.0687])\n",
      "epoch 33, loss: 1.334630\n",
      "w tensor([[ 0.0629,  0.0161, -0.0219,  0.0155,  0.0031, -0.0177,  0.0275,  0.0283]])\n",
      "b tensor([2.0688])\n",
      "epoch 34, loss: 1.334647\n",
      "w tensor([[ 0.0638,  0.0147, -0.0247,  0.0195,  0.0057, -0.0164,  0.0182,  0.0219]])\n",
      "b tensor([2.0680])\n",
      "epoch 35, loss: 1.334821\n",
      "w tensor([[ 0.0650,  0.0162, -0.0217,  0.0227,  0.0033, -0.0136,  0.0138,  0.0137]])\n",
      "b tensor([2.0683])\n",
      "epoch 36, loss: 1.334025\n",
      "w tensor([[ 0.0572,  0.0126, -0.0243,  0.0267,  0.0012, -0.0139,  0.0068,  0.0074]])\n",
      "b tensor([2.0688])\n",
      "epoch 37, loss: 1.334780\n",
      "w tensor([[ 0.0621,  0.0130, -0.0273,  0.0248,  0.0018, -0.0209, -0.0025,  0.0027]])\n",
      "b tensor([2.0691])\n",
      "epoch 38, loss: 1.334341\n",
      "w tensor([[ 0.0584,  0.0115, -0.0293,  0.0263,  0.0027, -0.0193, -0.0073, -0.0038]])\n",
      "b tensor([2.0683])\n",
      "epoch 39, loss: 1.334375\n",
      "w tensor([[ 0.0591,  0.0100, -0.0297,  0.0241,  0.0032, -0.0169, -0.0106, -0.0087]])\n",
      "b tensor([2.0680])\n",
      "epoch 40, loss: 1.334558\n",
      "w tensor([[ 0.0600,  0.0135, -0.0295,  0.0281, -0.0029, -0.0151, -0.0154, -0.0124]])\n",
      "b tensor([2.0682])\n",
      "epoch 41, loss: 1.334295\n",
      "w tensor([[ 0.0576,  0.0125, -0.0324,  0.0251,  0.0029, -0.0137, -0.0191, -0.0165]])\n",
      "b tensor([2.0684])\n",
      "epoch 42, loss: 1.334705\n",
      "w tensor([[ 0.0604,  0.0081, -0.0286,  0.0274,  0.0035, -0.0163, -0.0237, -0.0189]])\n",
      "b tensor([2.0682])\n",
      "epoch 43, loss: 1.334491\n",
      "w tensor([[ 0.0582,  0.0079, -0.0284,  0.0296,  0.0023, -0.0170, -0.0226, -0.0244]])\n",
      "b tensor([2.0679])\n",
      "epoch 44, loss: 1.334776\n",
      "w tensor([[ 0.0600,  0.0073, -0.0280,  0.0292,  0.0017, -0.0168, -0.0287, -0.0258]])\n",
      "b tensor([2.0684])\n",
      "epoch 45, loss: 1.335038\n",
      "w tensor([[ 0.0616,  0.0109, -0.0281,  0.0259,  0.0025, -0.0147, -0.0331, -0.0285]])\n",
      "b tensor([2.0686])\n",
      "epoch 46, loss: 1.335497\n",
      "w tensor([[ 0.0640,  0.0114, -0.0262,  0.0273,  0.0029, -0.0178, -0.0359, -0.0310]])\n",
      "b tensor([2.0693])\n",
      "epoch 47, loss: 1.335027\n",
      "w tensor([[ 0.0603,  0.0115, -0.0306,  0.0259,  0.0029, -0.0161, -0.0375, -0.0353]])\n",
      "b tensor([2.0692])\n",
      "epoch 48, loss: 1.335282\n",
      "w tensor([[ 0.0611,  0.0103, -0.0256,  0.0314,  0.0012, -0.0192, -0.0370, -0.0375]])\n",
      "b tensor([2.0691])\n",
      "epoch 49, loss: 1.335137\n",
      "w tensor([[ 0.0603,  0.0109, -0.0258,  0.0289,  0.0026, -0.0174, -0.0350, -0.0399]])\n",
      "b tensor([2.0689])\n",
      "epoch 50, loss: 1.334730\n",
      "w tensor([[ 0.0565,  0.0097, -0.0282,  0.0279,  0.0003, -0.0176, -0.0390, -0.0373]])\n",
      "b tensor([2.0689])\n",
      "epoch 51, loss: 1.334934\n",
      "w tensor([[ 0.0589,  0.0073, -0.0293,  0.0252, -0.0008, -0.0155, -0.0414, -0.0385]])\n",
      "b tensor([2.0687])\n",
      "epoch 52, loss: 1.335060\n",
      "w tensor([[ 0.0587,  0.0095, -0.0287,  0.0265,  0.0013, -0.0177, -0.0438, -0.0378]])\n",
      "b tensor([2.0678])\n",
      "epoch 53, loss: 1.335123\n",
      "w tensor([[ 0.0587,  0.0095, -0.0259,  0.0278,  0.0005, -0.0187, -0.0421, -0.0427]])\n",
      "b tensor([2.0679])\n",
      "epoch 54, loss: 1.335168\n",
      "w tensor([[ 0.0589,  0.0124, -0.0259,  0.0273, -0.0003, -0.0170, -0.0435, -0.0425]])\n",
      "b tensor([2.0679])\n",
      "epoch 55, loss: 1.334893\n",
      "w tensor([[ 0.0559,  0.0119, -0.0278,  0.0271,  0.0016, -0.0174, -0.0461, -0.0415]])\n",
      "b tensor([2.0681])\n",
      "epoch 56, loss: 1.335066\n",
      "w tensor([[ 0.0577,  0.0086, -0.0260,  0.0275,  0.0010, -0.0179, -0.0466, -0.0418]])\n",
      "b tensor([2.0677])\n",
      "epoch 57, loss: 1.334910\n",
      "w tensor([[ 0.0569,  0.0062, -0.0250,  0.0291,  0.0046, -0.0164, -0.0454, -0.0447]])\n",
      "b tensor([2.0679])\n",
      "epoch 58, loss: 1.335163\n",
      "w tensor([[ 0.0590,  0.0111, -0.0258,  0.0256,  0.0003, -0.0147, -0.0444, -0.0475]])\n",
      "b tensor([2.0683])\n",
      "epoch 59, loss: 1.335270\n",
      "w tensor([[ 0.0590,  0.0114, -0.0260,  0.0274,  0.0005, -0.0151, -0.0506, -0.0442]])\n",
      "b tensor([2.0677])\n",
      "epoch 60, loss: 1.335239\n",
      "w tensor([[ 0.0592,  0.0059, -0.0224,  0.0304,  0.0058, -0.0136, -0.0487, -0.0466]])\n",
      "b tensor([2.0680])\n",
      "epoch 61, loss: 1.335071\n",
      "w tensor([[ 0.0583,  0.0076, -0.0254,  0.0281,  0.0021, -0.0139, -0.0488, -0.0473]])\n",
      "b tensor([2.0677])\n",
      "epoch 62, loss: 1.335155\n",
      "w tensor([[ 0.0575,  0.0092, -0.0246,  0.0296,  0.0008, -0.0180, -0.0477, -0.0492]])\n",
      "b tensor([2.0677])\n",
      "epoch 63, loss: 1.334938\n",
      "w tensor([[ 0.0559,  0.0086, -0.0255,  0.0300,  0.0019, -0.0171, -0.0487, -0.0486]])\n",
      "b tensor([2.0679])\n",
      "epoch 64, loss: 1.335037\n",
      "w tensor([[ 0.0568,  0.0071, -0.0246,  0.0294, -0.0004, -0.0166, -0.0488, -0.0496]])\n",
      "b tensor([2.0680])\n",
      "epoch 65, loss: 1.334937\n",
      "w tensor([[ 0.0560,  0.0088, -0.0250,  0.0269, -0.0022, -0.0144, -0.0487, -0.0505]])\n",
      "b tensor([2.0677])\n",
      "epoch 66, loss: 1.334977\n",
      "w tensor([[ 0.0552,  0.0120, -0.0239,  0.0275, -0.0013, -0.0138, -0.0515, -0.0507]])\n",
      "b tensor([2.0679])\n",
      "epoch 67, loss: 1.335019\n",
      "w tensor([[ 0.0555,  0.0055, -0.0226,  0.0260,  0.0041, -0.0167, -0.0525, -0.0484]])\n",
      "b tensor([2.0680])\n",
      "epoch 68, loss: 1.334980\n",
      "w tensor([[ 0.0558,  0.0062, -0.0244,  0.0224, -0.0019, -0.0156, -0.0498, -0.0508]])\n",
      "b tensor([2.0681])\n",
      "epoch 69, loss: 1.335244\n",
      "w tensor([[ 0.0572,  0.0093, -0.0245,  0.0215, -0.0033, -0.0158, -0.0498, -0.0535]])\n",
      "b tensor([2.0687])\n",
      "epoch 70, loss: 1.335521\n",
      "w tensor([[ 0.0592,  0.0065, -0.0191,  0.0270, -0.0002, -0.0153, -0.0540, -0.0499]])\n",
      "b tensor([2.0684])\n",
      "epoch 71, loss: 1.335105\n",
      "w tensor([[ 0.0559,  0.0084, -0.0227,  0.0265,  0.0002, -0.0148, -0.0555, -0.0502]])\n",
      "b tensor([2.0686])\n",
      "epoch 72, loss: 1.334725\n",
      "w tensor([[ 0.0515,  0.0092, -0.0220,  0.0299,  0.0008, -0.0169, -0.0527, -0.0524]])\n",
      "b tensor([2.0680])\n",
      "epoch 73, loss: 1.335166\n",
      "w tensor([[ 0.0562,  0.0081, -0.0226,  0.0270, -0.0015, -0.0160, -0.0545, -0.0531]])\n",
      "b tensor([2.0683])\n",
      "epoch 74, loss: 1.335297\n",
      "w tensor([[ 0.0571,  0.0078, -0.0226,  0.0243, -0.0007, -0.0170, -0.0553, -0.0505]])\n",
      "b tensor([2.0683])\n",
      "epoch 75, loss: 1.334970\n",
      "w tensor([[ 0.0536,  0.0074, -0.0259,  0.0238,  0.0001, -0.0195, -0.0547, -0.0519]])\n",
      "b tensor([2.0678])\n",
      "epoch 76, loss: 1.335025\n",
      "w tensor([[ 0.0548,  0.0073, -0.0229,  0.0260,  0.0021, -0.0175, -0.0543, -0.0520]])\n",
      "b tensor([2.0683])\n",
      "epoch 77, loss: 1.335021\n",
      "w tensor([[ 0.0543,  0.0092, -0.0197,  0.0260,  0.0018, -0.0150, -0.0549, -0.0516]])\n",
      "b tensor([2.0685])\n",
      "epoch 78, loss: 1.334614\n",
      "w tensor([[ 0.0508,  0.0102, -0.0211,  0.0258, -0.0003, -0.0130, -0.0533, -0.0540]])\n",
      "b tensor([2.0685])\n",
      "epoch 79, loss: 1.334619\n",
      "w tensor([[ 0.0504,  0.0081, -0.0212,  0.0263,  0.0013, -0.0144, -0.0565, -0.0522]])\n",
      "b tensor([2.0682])\n",
      "epoch 80, loss: 1.334632\n",
      "w tensor([[ 0.0517,  0.0068, -0.0236,  0.0249,  0.0021, -0.0139, -0.0541, -0.0551]])\n",
      "b tensor([2.0675])\n",
      "epoch 81, loss: 1.334807\n",
      "w tensor([[ 0.0534,  0.0060, -0.0222,  0.0254,  0.0042, -0.0119, -0.0568, -0.0526]])\n",
      "b tensor([2.0676])\n",
      "epoch 82, loss: 1.335094\n",
      "w tensor([[ 0.0559,  0.0109, -0.0239,  0.0238,  0.0004, -0.0123, -0.0552, -0.0549]])\n",
      "b tensor([2.0683])\n",
      "epoch 83, loss: 1.334769\n",
      "w tensor([[ 0.0538,  0.0085, -0.0240,  0.0248,  0.0020, -0.0106, -0.0532, -0.0559]])\n",
      "b tensor([2.0685])\n",
      "epoch 84, loss: 1.334989\n",
      "w tensor([[ 0.0544,  0.0079, -0.0219,  0.0246,  0.0019, -0.0152, -0.0555, -0.0521]])\n",
      "b tensor([2.0675])\n",
      "epoch 85, loss: 1.334813\n",
      "w tensor([[ 0.0536,  0.0059, -0.0226,  0.0252,  0.0023, -0.0128, -0.0559, -0.0510]])\n",
      "b tensor([2.0682])\n",
      "epoch 86, loss: 1.334759\n",
      "w tensor([[ 0.0534,  0.0071, -0.0216,  0.0250, -0.0008, -0.0113, -0.0532, -0.0535]])\n",
      "b tensor([2.0683])\n",
      "epoch 87, loss: 1.334749\n",
      "w tensor([[ 0.0528,  0.0098, -0.0203,  0.0231,  0.0003, -0.0103, -0.0514, -0.0547]])\n",
      "b tensor([2.0679])\n",
      "epoch 88, loss: 1.334659\n",
      "w tensor([[ 0.0520,  0.0093, -0.0199,  0.0259,  0.0011, -0.0086, -0.0545, -0.0526]])\n",
      "b tensor([2.0678])\n",
      "epoch 89, loss: 1.334971\n",
      "w tensor([[ 0.0552,  0.0074, -0.0215,  0.0220,  0.0044, -0.0096, -0.0557, -0.0498]])\n",
      "b tensor([2.0682])\n",
      "epoch 90, loss: 1.334576\n",
      "w tensor([[ 0.0526,  0.0038, -0.0220,  0.0233, -0.0003, -0.0077, -0.0541, -0.0522]])\n",
      "b tensor([2.0688])\n",
      "epoch 91, loss: 1.335059\n",
      "w tensor([[ 0.0562,  0.0016, -0.0210,  0.0238,  0.0019, -0.0122, -0.0552, -0.0524]])\n",
      "b tensor([2.0686])\n",
      "epoch 92, loss: 1.335029\n",
      "w tensor([[ 0.0563,  0.0066, -0.0217,  0.0233,  0.0002, -0.0109, -0.0534, -0.0531]])\n",
      "b tensor([2.0684])\n",
      "epoch 93, loss: 1.334549\n",
      "w tensor([[ 5.1229e-02,  8.7299e-03, -2.1118e-02,  2.5705e-02, -9.2376e-05,\n",
      "         -1.0832e-02, -5.3323e-02, -4.9887e-02]])\n",
      "b tensor([2.0683])\n",
      "epoch 94, loss: 1.334755\n",
      "w tensor([[ 0.0543,  0.0063, -0.0206,  0.0255,  0.0014, -0.0093, -0.0515, -0.0508]])\n",
      "b tensor([2.0677])\n",
      "epoch 95, loss: 1.334864\n",
      "w tensor([[ 0.0552,  0.0066, -0.0217,  0.0240,  0.0028, -0.0104, -0.0526, -0.0501]])\n",
      "b tensor([2.0675])\n",
      "epoch 96, loss: 1.334561\n",
      "w tensor([[ 0.0518,  0.0075, -0.0207,  0.0252,  0.0014, -0.0109, -0.0514, -0.0510]])\n",
      "b tensor([2.0671])\n",
      "epoch 97, loss: 1.334875\n",
      "w tensor([[ 0.0546,  0.0080, -0.0201,  0.0228, -0.0021, -0.0098, -0.0525, -0.0505]])\n",
      "b tensor([2.0675])\n",
      "epoch 98, loss: 1.334521\n",
      "w tensor([[ 0.0518,  0.0087, -0.0224,  0.0232, -0.0019, -0.0082, -0.0523, -0.0486]])\n",
      "b tensor([2.0678])\n",
      "epoch 99, loss: 1.334322\n",
      "w tensor([[ 0.0498,  0.0064, -0.0201,  0.0272,  0.0005, -0.0076, -0.0517, -0.0499]])\n",
      "b tensor([2.0687])\n",
      "epoch 100, loss: 1.334588\n",
      "w tensor([[ 0.0519,  0.0097, -0.0205,  0.0256, -0.0003, -0.0091, -0.0514, -0.0513]])\n",
      "b tensor([2.0689])\n"
     ]
    }
   ],
   "source": [
    "num_epochs = 100\n",
    "for epoch in range(1, num_epochs + 1):\n",
    "    for X, y in data_iter:\n",
    "        \n",
    "        output = model(X)\n",
    "        l = loss(output, y)\n",
    "        # l = loss(model.forward(X), y)\n",
    "        trainer.zero_grad()\n",
    "        l.backward()\n",
    "        trainer.step()\n",
    "    l = loss(model(data), target)\n",
    "    print('epoch %d, loss: %f' % (epoch, l.item()))\n",
    "    print('w', model[0].weight.data)\n",
    "    print('b', model[0].bias.data)"
   ]
  },
  {
   "cell_type": "code",
   "execution_count": 60,
   "metadata": {
    "ExecuteTime": {
     "end_time": "2019-11-06T15:02:10.986551Z",
     "start_time": "2019-11-06T15:02:10.979650Z"
    }
   },
   "outputs": [],
   "source": [
    "# w = model[0].weight.data\n",
    "# print('Error in estimating w', true_w.reshape(w.shape) - w)\n",
    "# b = model[0].bias.data\n",
    "# print('Error in estimating b', true_b - b)"
   ]
  },
  {
   "cell_type": "code",
   "execution_count": null,
   "metadata": {},
   "outputs": [],
   "source": []
  },
  {
   "cell_type": "markdown",
   "metadata": {},
   "source": [
    "# Наивный байесовский классификатор."
   ]
  },
  {
   "cell_type": "code",
   "execution_count": null,
   "metadata": {},
   "outputs": [],
   "source": []
  },
  {
   "cell_type": "code",
   "execution_count": null,
   "metadata": {},
   "outputs": [],
   "source": []
  },
  {
   "cell_type": "code",
   "execution_count": null,
   "metadata": {},
   "outputs": [],
   "source": []
  },
  {
   "cell_type": "code",
   "execution_count": null,
   "metadata": {},
   "outputs": [],
   "source": []
  },
  {
   "cell_type": "code",
   "execution_count": 89,
   "metadata": {},
   "outputs": [],
   "source": [
    "# if torch.cuda.is_available():\n",
    "#     device = torch.device(\"cuda\")\n",
    "# else:\n",
    "#     device = torch.device(\"cpu\")\n",
    "#     model.to(device)\n",
    "device = torch.device(\"cpu\")"
   ]
  },
  {
   "cell_type": "code",
   "execution_count": 90,
   "metadata": {},
   "outputs": [
    {
     "data": {
      "text/plain": [
       "device(type='cpu')"
      ]
     },
     "execution_count": 90,
     "metadata": {},
     "output_type": "execute_result"
    }
   ],
   "source": [
    "device"
   ]
  },
  {
   "cell_type": "code",
   "execution_count": 85,
   "metadata": {},
   "outputs": [
    {
     "name": "stderr",
     "output_type": "stream",
     "text": [
      "/home/sergey/.local/lib/python3.10/site-packages/torch/nn/modules/loss.py:530: UserWarning: Using a target size (torch.Size([16])) that is different to the input size (torch.Size([16, 1])). This will likely lead to incorrect results due to broadcasting. Please ensure they have the same size.\n",
      "  return F.mse_loss(input, target, reduction=self.reduction)\n",
      "/home/sergey/.local/lib/python3.10/site-packages/torch/nn/modules/loss.py:530: UserWarning: Using a target size (torch.Size([15])) that is different to the input size (torch.Size([15, 1])). This will likely lead to incorrect results due to broadcasting. Please ensure they have the same size.\n",
      "  return F.mse_loss(input, target, reduction=self.reduction)\n",
      "/home/sergey/.local/lib/python3.10/site-packages/torch/nn/modules/loss.py:530: UserWarning: Using a target size (torch.Size([20640])) that is different to the input size (torch.Size([20640, 1])). This will likely lead to incorrect results due to broadcasting. Please ensure they have the same size.\n",
      "  return F.mse_loss(input, target, reduction=self.reduction)\n"
     ]
    },
    {
     "name": "stdout",
     "output_type": "stream",
     "text": [
      "epoch 0, loss 6.090577602386475\n",
      "epoch 1, loss 5.705268383026123\n",
      "epoch 2, loss 5.335746765136719\n",
      "epoch 3, loss 4.985158443450928\n",
      "epoch 4, loss 4.652167320251465\n",
      "epoch 5, loss 4.335914611816406\n",
      "epoch 6, loss 4.037074089050293\n",
      "epoch 7, loss 3.7559974193573\n",
      "epoch 8, loss 3.491419792175293\n",
      "epoch 9, loss 3.245523452758789\n",
      "epoch 10, loss 3.013486623764038\n",
      "epoch 11, loss 2.8005905151367188\n",
      "epoch 12, loss 2.6015474796295166\n",
      "epoch 13, loss 2.4199671745300293\n",
      "epoch 14, loss 2.2540764808654785\n",
      "epoch 15, loss 2.102977991104126\n",
      "epoch 16, loss 1.9684391021728516\n",
      "epoch 17, loss 1.850356101989746\n",
      "epoch 18, loss 1.7490167617797852\n",
      "epoch 19, loss 1.6625043153762817\n",
      "epoch 20, loss 1.5902018547058105\n",
      "epoch 21, loss 1.5336171388626099\n",
      "epoch 22, loss 1.4899613857269287\n",
      "epoch 23, loss 1.4587328433990479\n",
      "epoch 24, loss 1.435545802116394\n",
      "epoch 25, loss 1.4204756021499634\n",
      "epoch 26, loss 1.4110004901885986\n",
      "epoch 27, loss 1.4049564599990845\n",
      "epoch 28, loss 1.4014126062393188\n",
      "epoch 29, loss 1.3982223272323608\n",
      "epoch 30, loss 1.3965179920196533\n",
      "epoch 31, loss 1.3949699401855469\n",
      "epoch 32, loss 1.39347243309021\n",
      "epoch 33, loss 1.3918999433517456\n",
      "epoch 34, loss 1.3912415504455566\n",
      "epoch 35, loss 1.3897976875305176\n",
      "epoch 36, loss 1.3887015581130981\n",
      "epoch 37, loss 1.3877824544906616\n",
      "epoch 38, loss 1.3869484663009644\n",
      "epoch 39, loss 1.3857625722885132\n",
      "epoch 40, loss 1.3845335245132446\n",
      "epoch 41, loss 1.3831751346588135\n",
      "epoch 42, loss 1.3824546337127686\n",
      "epoch 43, loss 1.381431221961975\n",
      "epoch 44, loss 1.3801501989364624\n",
      "epoch 45, loss 1.3789485692977905\n",
      "epoch 46, loss 1.3787524700164795\n",
      "epoch 47, loss 1.3777873516082764\n",
      "epoch 48, loss 1.3763233423233032\n",
      "epoch 49, loss 1.3754072189331055\n",
      "epoch 50, loss 1.374428629875183\n",
      "epoch 51, loss 1.3730480670928955\n",
      "epoch 52, loss 1.3724591732025146\n",
      "epoch 53, loss 1.3714040517807007\n",
      "epoch 54, loss 1.3703670501708984\n",
      "epoch 55, loss 1.3693689107894897\n",
      "epoch 56, loss 1.3684120178222656\n",
      "epoch 57, loss 1.3679159879684448\n",
      "epoch 58, loss 1.3668755292892456\n",
      "epoch 59, loss 1.3656597137451172\n",
      "epoch 60, loss 1.3646774291992188\n",
      "epoch 61, loss 1.3638654947280884\n",
      "epoch 62, loss 1.3630059957504272\n",
      "epoch 63, loss 1.362622618675232\n",
      "epoch 64, loss 1.3617955446243286\n",
      "epoch 65, loss 1.3608372211456299\n",
      "epoch 66, loss 1.359781265258789\n",
      "epoch 67, loss 1.3590967655181885\n",
      "epoch 68, loss 1.3582929372787476\n",
      "epoch 69, loss 1.3577826023101807\n",
      "epoch 70, loss 1.35736882686615\n",
      "epoch 71, loss 1.3565822839736938\n",
      "epoch 72, loss 1.3558199405670166\n",
      "epoch 73, loss 1.355370044708252\n",
      "epoch 74, loss 1.35492742061615\n",
      "epoch 75, loss 1.3543473482131958\n",
      "epoch 76, loss 1.3538874387741089\n",
      "epoch 77, loss 1.3532264232635498\n",
      "epoch 78, loss 1.3525856733322144\n",
      "epoch 79, loss 1.3518491983413696\n",
      "epoch 80, loss 1.3511468172073364\n",
      "epoch 81, loss 1.3502594232559204\n",
      "epoch 82, loss 1.3497285842895508\n",
      "epoch 83, loss 1.3489187955856323\n",
      "epoch 84, loss 1.3484846353530884\n",
      "epoch 85, loss 1.3482232093811035\n",
      "epoch 86, loss 1.3480734825134277\n",
      "epoch 87, loss 1.3474177122116089\n",
      "epoch 88, loss 1.3467724323272705\n",
      "epoch 89, loss 1.3464839458465576\n",
      "epoch 90, loss 1.346091866493225\n",
      "epoch 91, loss 1.3454025983810425\n",
      "epoch 92, loss 1.3447145223617554\n",
      "epoch 93, loss 1.3442363739013672\n",
      "epoch 94, loss 1.3437689542770386\n",
      "epoch 95, loss 1.343225359916687\n",
      "epoch 96, loss 1.3426350355148315\n",
      "epoch 97, loss 1.3429089784622192\n",
      "epoch 98, loss 1.3422528505325317\n",
      "epoch 99, loss 1.3416067361831665\n"
     ]
    }
   ],
   "source": [
    "class LinearRegressionModel(torch.nn.Sequential):\n",
    "\n",
    "    def __init__(self):\n",
    "        super(LinearRegressionModel, self).__init__()\n",
    "        self.linear = torch.nn.Linear(8, 1) # One in and one out\n",
    "\n",
    "    def forward(self, x):\n",
    "        y_pred = self.linear(x)\n",
    "        return y_pred\n",
    "\n",
    "# our model\n",
    "our_model = LinearRegressionModel()\n",
    "\n",
    "# # move it to GPU\n",
    "# if torch.cuda.is_available():\n",
    "#     device = torch.device(\"cuda\")\n",
    "# else:\n",
    "#     device = torch.device(\"cpu\")\n",
    "# our_model.to(device)\n",
    "\n",
    "# our_model.linear.weight.data = torch.rand((1,8), requires_grad=True)\n",
    "# our_model.linear.bias.data = torch.rand(1, requires_grad=True)\n",
    "\n",
    "criterion = torch.nn.MSELoss(reduction='mean')\n",
    "optimizer = torch.optim.RMSprop(our_model.parameters(), lr = 0.0001)\n",
    "\n",
    "# inputs = data.to(device)\n",
    "# target = target.to(device)\n",
    "\n",
    "\n",
    "for epoch in range(100):\n",
    "    for X, y in data_train:\n",
    "        \n",
    "        # Forward pass: Compute predicted y by passing\n",
    "        # x to the model\n",
    "\n",
    "        pred_y = our_model(X)\n",
    "\n",
    "        # Compute and print loss\n",
    "        loss = criterion(pred_y, y)\n",
    "\n",
    "        # Zero gradients, perform a backward pass,\n",
    "        # and update the weights.\n",
    "        optimizer.zero_grad()\n",
    "        loss.backward()\n",
    "        optimizer.step()\n",
    "    # считаем loss на тренировочных данных\n",
    "    loss = criterion(our_model(X_train), y_train)\n",
    "    print('epoch {}, loss {}'.format(epoch, loss.item()))"
   ]
  },
  {
   "cell_type": "code",
   "execution_count": 45,
   "metadata": {},
   "outputs": [
    {
     "data": {
      "text/plain": [
       "(tensor([[ 0.0510,  0.0092, -0.0215,  0.0230, -0.0014, -0.0052, -0.0478, -0.0519]]),\n",
       " tensor([2.0687]))"
      ]
     },
     "execution_count": 45,
     "metadata": {},
     "output_type": "execute_result"
    }
   ],
   "source": [
    "our_model.linear.weight.data, our_model.linear.bias.data"
   ]
  },
  {
   "cell_type": "code",
   "execution_count": 49,
   "metadata": {},
   "outputs": [],
   "source": [
    "error = (our_model(X_test) - y_test).pow(2).mean().item()"
   ]
  },
  {
   "cell_type": "code",
   "execution_count": 64,
   "metadata": {},
   "outputs": [
    {
     "data": {
      "text/plain": [
       "1.3342851400375366"
      ]
     },
     "execution_count": 64,
     "metadata": {},
     "output_type": "execute_result"
    }
   ],
   "source": [
    "error"
   ]
  },
  {
   "cell_type": "code",
   "execution_count": 67,
   "metadata": {},
   "outputs": [
    {
     "data": {
      "text/plain": [
       "tensor([4.5260, 3.5850, 3.5210,  ..., 0.9230, 0.8470, 0.8940])"
      ]
     },
     "execution_count": 67,
     "metadata": {},
     "output_type": "execute_result"
    }
   ],
   "source": [
    "y_test"
   ]
  },
  {
   "cell_type": "code",
   "execution_count": 76,
   "metadata": {},
   "outputs": [
    {
     "data": {
      "text/plain": [
       "<matplotlib.collections.PathCollection at 0x7fbab4d99060>"
      ]
     },
     "execution_count": 76,
     "metadata": {},
     "output_type": "execute_result"
    },
    {
     "data": {
      "image/png": "[encoded data removed]",
      "text/plain": [
       "<Figure size 432x288 with 1 Axes>"
      ]
     },
     "metadata": {
      "needs_background": "light"
     },
     "output_type": "display_data"
    }
   ],
   "source": [
    "plt.scatter(X_test[::,7], y_test)"
   ]
  },
  {
   "cell_type": "code",
   "execution_count": null,
   "metadata": {},
   "outputs": [],
   "source": []
  }
 ],
 "metadata": {
  "kernelspec": {
   "display_name": "Python 3 (ipykernel)",
   "language": "python",
   "name": "python3"
  },
  "language_info": {
   "codemirror_mode": {
    "name": "ipython",
    "version": 3
   },
   "file_extension": ".py",
   "mimetype": "text/x-python",
   "name": "python",
   "nbconvert_exporter": "python",
   "pygments_lexer": "ipython3",
   "version": "3.10.4"
  }
 },
 "nbformat": 4,
 "nbformat_minor": 4
}
