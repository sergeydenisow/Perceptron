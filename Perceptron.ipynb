{
 "cells": [
  {
   "cell_type": "markdown",
   "metadata": {
    "tags": []
   },
   "source": [
    "# Линейная регрессия."
   ]
  },
  {
   "cell_type": "code",
   "execution_count": 1,
   "metadata": {
    "ExecuteTime": {
     "end_time": "2019-11-06T12:28:34.900077Z",
     "start_time": "2019-11-06T12:28:34.399089Z"
    }
   },
   "outputs": [],
   "source": [
    "import numpy as np\n",
    "import pandas as pd\n",
    "import torch\n",
    "from torch import autograd"
   ]
  },
  {
   "cell_type": "code",
   "execution_count": 2,
   "metadata": {},
   "outputs": [],
   "source": [
    "from tqdm import tqdm\n",
    "import matplotlib.pyplot as plt\n",
    "%matplotlib inline"
   ]
  },
  {
   "cell_type": "markdown",
   "metadata": {},
   "source": [
    "## Зарузка данных.\n",
    "\n",
    "Стоимость недвижимости в Калифорнии."
   ]
  },
  {
   "cell_type": "code",
   "execution_count": 3,
   "metadata": {},
   "outputs": [],
   "source": [
    "from sklearn.datasets import fetch_california_housing\n",
    "housing = fetch_california_housing()"
   ]
  },
  {
   "cell_type": "code",
   "execution_count": 4,
   "metadata": {},
   "outputs": [
    {
     "data": {
      "text/plain": [
       "((20640, 8), (20640,))"
      ]
     },
     "execution_count": 4,
     "metadata": {},
     "output_type": "execute_result"
    }
   ],
   "source": [
    "housing.data.shape, housing.target.shape"
   ]
  },
  {
   "cell_type": "code",
   "execution_count": 5,
   "metadata": {},
   "outputs": [
    {
     "data": {
      "text/plain": [
       "(numpy.ndarray, numpy.ndarray)"
      ]
     },
     "execution_count": 5,
     "metadata": {},
     "output_type": "execute_result"
    }
   ],
   "source": [
    "type(housing.data), type(housing.target)"
   ]
  },
  {
   "cell_type": "code",
   "execution_count": 6,
   "metadata": {},
   "outputs": [],
   "source": [
    "# Масштабируем данные.\n",
    "from sklearn.preprocessing import StandardScaler "
   ]
  },
  {
   "cell_type": "code",
   "execution_count": 7,
   "metadata": {},
   "outputs": [],
   "source": [
    "scaler = StandardScaler()"
   ]
  },
  {
   "cell_type": "code",
   "execution_count": 8,
   "metadata": {},
   "outputs": [],
   "source": [
    "data = scaler.fit_transform(housing.data)"
   ]
  },
  {
   "cell_type": "code",
   "execution_count": 9,
   "metadata": {},
   "outputs": [],
   "source": [
    "target = (housing.target - housing.target.mean()) / housing.target.std()"
   ]
  },
  {
   "cell_type": "code",
   "execution_count": 10,
   "metadata": {},
   "outputs": [
    {
     "data": {
      "image/png": "[encoded data removed]",
      "text/plain": [
       "<Figure size 432x288 with 1 Axes>"
      ]
     },
     "metadata": {
      "needs_background": "light"
     },
     "output_type": "display_data"
    }
   ],
   "source": [
    "with plt.style.context('bmh'):\n",
    "    plt.hist(target)"
   ]
  },
  {
   "cell_type": "code",
   "execution_count": 11,
   "metadata": {},
   "outputs": [],
   "source": [
    "# Разобъем данные на обучающую и тестовую выборки.\n",
    "from sklearn.model_selection import train_test_split"
   ]
  },
  {
   "cell_type": "code",
   "execution_count": 12,
   "metadata": {},
   "outputs": [],
   "source": [
    "X_train, X_test, y_train, y_test = train_test_split(data, target, test_size=0.3, random_state=73)"
   ]
  },
  {
   "cell_type": "code",
   "execution_count": 13,
   "metadata": {},
   "outputs": [],
   "source": [
    "X_train = torch.from_numpy(X_train).float()\n",
    "X_test = torch.from_numpy(X_test).float()\n",
    "y_train = torch.from_numpy(y_train).float()\n",
    "y_test = torch.from_numpy(y_test).float()"
   ]
  },
  {
   "cell_type": "code",
   "execution_count": 14,
   "metadata": {},
   "outputs": [],
   "source": [
    "device = torch.device('cuda' if torch.cuda.is_available() else 'cpu')"
   ]
  },
  {
   "cell_type": "code",
   "execution_count": 15,
   "metadata": {},
   "outputs": [
    {
     "data": {
      "text/plain": [
       "device(type='cuda')"
      ]
     },
     "execution_count": 15,
     "metadata": {},
     "output_type": "execute_result"
    }
   ],
   "source": [
    "device"
   ]
  },
  {
   "cell_type": "code",
   "execution_count": 16,
   "metadata": {},
   "outputs": [],
   "source": [
    "X_train, y_train = X_train.to(device), y_train.to(device)\n",
    "X_test, y_test = X_test.to(device), y_test.to(device)"
   ]
  },
  {
   "cell_type": "markdown",
   "metadata": {
    "ExecuteTime": {
     "end_time": "2019-11-06T12:40:23.439886Z",
     "start_time": "2019-11-06T12:40:23.437308Z"
    }
   },
   "source": [
    "## Линейная регрессия на PyTorch."
   ]
  },
  {
   "cell_type": "code",
   "execution_count": 17,
   "metadata": {
    "ExecuteTime": {
     "end_time": "2019-11-06T13:52:12.812804Z",
     "start_time": "2019-11-06T13:52:12.809805Z"
    }
   },
   "outputs": [],
   "source": [
    "from torch.utils.data import TensorDataset, DataLoader"
   ]
  },
  {
   "cell_type": "code",
   "execution_count": 18,
   "metadata": {
    "ExecuteTime": {
     "end_time": "2019-11-06T13:52:13.355499Z",
     "start_time": "2019-11-06T13:52:13.348636Z"
    }
   },
   "outputs": [],
   "source": [
    "# Два набора данных: для обучения и тестирования.\n",
    "batch_size = 16\n",
    "dataset_train = TensorDataset(X_train, y_train)\n",
    "dataset_test = TensorDataset(X_test, y_test)"
   ]
  },
  {
   "cell_type": "code",
   "execution_count": 19,
   "metadata": {},
   "outputs": [],
   "source": [
    "# Randomly reading mini-batches\n",
    "data_train = DataLoader(dataset_train, batch_size, shuffle=True)\n",
    "data_test = DataLoader(dataset_test, batch_size)"
   ]
  },
  {
   "cell_type": "code",
   "execution_count": 20,
   "metadata": {},
   "outputs": [
    {
     "name": "stdout",
     "output_type": "stream",
     "text": [
      "tensor([[-8.1898e-01,  6.6431e-01, -1.1940e-01, -1.0332e-01, -1.8233e-01,\n",
      "         -7.1667e-02, -1.3492e+00,  1.2477e+00],\n",
      "        [-1.0293e+00,  1.2205e+00, -1.0956e+00, -1.1685e-03,  5.3206e-01,\n",
      "          3.3627e-02, -7.4061e-01,  6.3375e-01],\n",
      "        [ 4.1170e-01, -1.3027e-01, -1.6573e-01, -2.6949e-01,  3.0688e-01,\n",
      "         -1.3248e-03, -6.3292e-01,  4.2910e-01],\n",
      "        [-1.3043e+00,  1.0810e-01, -5.5016e-01, -9.6027e-02,  1.3242e+00,\n",
      "          1.7616e-02,  1.3522e+00, -9.2853e-01],\n",
      "        [ 2.1358e+00, -1.2427e+00,  9.1912e-01, -2.2848e-01,  5.7604e-03,\n",
      "          2.4250e-02, -9.5597e-01,  9.3822e-01],\n",
      "        [ 1.7409e-01,  5.0539e-01,  1.4292e-01,  2.9535e-02,  1.4528e-01,\n",
      "          6.8976e-03, -1.3212e+00,  1.3425e+00],\n",
      "        [ 6.7331e-01,  5.0539e-01,  7.3850e-01, -8.9005e-02, -2.9978e-01,\n",
      "         -1.0738e-02,  9.7296e-01, -1.2580e+00],\n",
      "        [-6.5738e-01, -1.1632e+00, -3.0109e-01,  5.6719e-03,  6.7600e-01,\n",
      "         -2.6919e-02,  3.1750e-01, -9.9974e-02],\n",
      "        [ 1.2254e+00, -9.2485e-01,  5.4534e-01, -1.5720e-01,  8.3469e-02,\n",
      "         -5.9110e-04, -7.4529e-01,  1.1628e+00],\n",
      "        [-1.0867e+00, -1.8783e+00, -9.8065e-01, -3.4390e-01, -7.0863e-01,\n",
      "         -1.2995e-01,  5.6095e-01, -7.0026e-02],\n",
      "        [ 4.4091e-01, -5.0812e-02,  1.4995e-01, -1.3617e-01, -5.9207e-01,\n",
      "         -3.6033e-02, -8.2020e-01,  7.8349e-01],\n",
      "        [-2.3196e-01,  1.3794e+00,  3.8150e-03, -1.7865e-01, -5.5586e-01,\n",
      "         -6.5500e-02,  9.3550e-01, -1.4227e+00],\n",
      "        [-7.1730e-02,  1.2205e+00,  6.2541e-02, -2.8477e-01, -8.5963e-01,\n",
      "         -8.7425e-02,  1.3616e+00, -9.6347e-01],\n",
      "        [ 6.6936e-01,  5.8485e-01, -2.3591e-01, -2.0400e-01, -5.9825e-01,\n",
      "         -3.6589e-02, -8.1083e-01,  7.2858e-01],\n",
      "        [-9.9663e-01, -6.0702e-01,  1.6673e-01, -4.9283e-03, -6.0178e-01,\n",
      "         -2.5333e-02,  2.0779e+00, -1.3079e+00],\n",
      "        [-9.8468e-01,  1.1411e+00, -1.1852e+00, -9.3665e-02, -1.3288e-01,\n",
      "          1.0553e-01, -7.3124e-01,  6.5871e-01]], device='cuda:0') tensor([-0.4563, -0.7908, -0.1755, -1.1141,  1.2240, -0.5516,  0.5160, -1.1938,\n",
      "         0.0662, -0.8099,  0.5307,  0.7457, -0.2345, -0.2059, -1.3160, -0.2761],\n",
      "       device='cuda:0')\n"
     ]
    }
   ],
   "source": [
    "# Read a batch to see how it works\n",
    "for X, y in data_train:\n",
    "    print(X, y)\n",
    "    break"
   ]
  },
  {
   "cell_type": "code",
   "execution_count": null,
   "metadata": {},
   "outputs": [],
   "source": []
  },
  {
   "cell_type": "code",
   "execution_count": 21,
   "metadata": {},
   "outputs": [
    {
     "name": "stderr",
     "output_type": "stream",
     "text": [
      "  0%|                                                                                                                                   | 0/100 [00:00<?, ?it/s]/home/sergey/.local/lib/python3.10/site-packages/torch/nn/modules/loss.py:530: UserWarning: Using a target size (torch.Size([16])) that is different to the input size (torch.Size([16, 1])). This will likely lead to incorrect results due to broadcasting. Please ensure they have the same size.\n",
      "  return F.mse_loss(input, target, reduction=self.reduction)\n",
      "/home/sergey/.local/lib/python3.10/site-packages/torch/nn/modules/loss.py:530: UserWarning: Using a target size (torch.Size([14448])) that is different to the input size (torch.Size([14448, 1])). This will likely lead to incorrect results due to broadcasting. Please ensure they have the same size.\n",
      "  return F.mse_loss(input, target, reduction=self.reduction)\n",
      "100%|█████████████████████████████████████████████████████████████████████████████████████████████████████████████████████████| 100/100 [00:45<00:00,  2.20it/s]\n"
     ]
    }
   ],
   "source": [
    "class LinearRegressionModel(torch.nn.Sequential):\n",
    "\n",
    "    def __init__(self):\n",
    "        super(LinearRegressionModel, self).__init__()\n",
    "        self.linear = torch.nn.Linear(8, 1) # One in and one out\n",
    "\n",
    "    def forward(self, x):\n",
    "        y_pred = self.linear(x)\n",
    "        return y_pred\n",
    "\n",
    "# our model\n",
    "our_model = LinearRegressionModel()\n",
    "\n",
    "# move to device.\n",
    "our_model.to(device)\n",
    "\n",
    "criterion = torch.nn.MSELoss(reduction='mean')\n",
    "optimizer = torch.optim.RMSprop(our_model.parameters(), lr = 0.0001)\n",
    "\n",
    "loss_per_epoch = np.zeros(100)\n",
    "\n",
    "for epoch in tqdm(range(100)):\n",
    "    for X, y in data_train:\n",
    "        # X, y = X.to(device), y.to(device)\n",
    "        pred_y = our_model(X)\n",
    "        loss = criterion(pred_y, y)\n",
    "        optimizer.zero_grad()\n",
    "        loss.backward()\n",
    "        optimizer.step()\n",
    "    # считаем loss на тренировочных данных\n",
    "    loss = criterion(our_model(X_train), y_train)\n",
    "    loss_per_epoch[epoch] = loss\n",
    "    # print('epoch {}, loss {}'.format(epoch, loss.item()))"
   ]
  },
  {
   "cell_type": "code",
   "execution_count": 22,
   "metadata": {},
   "outputs": [
    {
     "data": {
      "image/png": "[encoded data removed]",
      "text/plain": [
       "<Figure size 432x288 with 1 Axes>"
      ]
     },
     "metadata": {
      "needs_background": "light"
     },
     "output_type": "display_data"
    }
   ],
   "source": [
    "with plt.style.context(\"bmh\"):\n",
    "    plt.plot(loss_per_epoch)\n",
    "    plt.xlabel(\"Epoch\")\n",
    "    plt.ylabel(\"Loss\")\n",
    "    plt.title(\"Loss vs. Epoch\")"
   ]
  },
  {
   "cell_type": "code",
   "execution_count": 23,
   "metadata": {},
   "outputs": [
    {
     "name": "stdout",
     "output_type": "stream",
     "text": [
      "MSE on test data: 1.0225931406021118\n"
     ]
    }
   ],
   "source": [
    "# MSE on test data.\n",
    "error = (our_model(X_test) - y_test).pow(2).mean().item()\n",
    "print('MSE on test data: {}'.format(error))"
   ]
  },
  {
   "cell_type": "code",
   "execution_count": 24,
   "metadata": {},
   "outputs": [],
   "source": [
    "prediction = our_model(X_test).detach().cpu().numpy()\n",
    "y = y_test.detach().cpu().numpy()"
   ]
  },
  {
   "cell_type": "code",
   "execution_count": 25,
   "metadata": {},
   "outputs": [
    {
     "data": {
      "image/png": "[encoded data removed]",
      "text/plain": [
       "<Figure size 432x288 with 1 Axes>"
      ]
     },
     "metadata": {
      "needs_background": "light"
     },
     "output_type": "display_data"
    }
   ],
   "source": [
    "with plt.style.context('bmh'):\n",
    "    plt.scatter(prediction, y)\n",
    "    plt.xlim(right=0.6)\n",
    "    plt.xlabel(\"Test data\")\n",
    "    plt.ylabel(\"Predicted data\")"
   ]
  },
  {
   "cell_type": "code",
   "execution_count": null,
   "metadata": {},
   "outputs": [],
   "source": []
  }
 ],
 "metadata": {
  "kernelspec": {
   "display_name": "Python 3",
   "language": "python",
   "name": "python3"
  },
  "language_info": {
   "codemirror_mode": {
    "name": "ipython",
    "version": 3
   },
   "file_extension": ".py",
   "mimetype": "text/x-python",
   "name": "python",
   "nbconvert_exporter": "python",
   "pygments_lexer": "ipython3",
   "version": "3.9.12"
  }
 },
 "nbformat": 4,
 "nbformat_minor": 4
}
