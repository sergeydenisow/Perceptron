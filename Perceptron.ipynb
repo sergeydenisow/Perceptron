{
 "cells": [
  {
   "cell_type": "markdown",
   "metadata": {
    "tags": []
   },
   "source": [
    "# Линейная регрессия."
   ]
  },
  {
   "cell_type": "code",
   "execution_count": 7,
   "metadata": {
    "ExecuteTime": {
     "end_time": "2019-11-06T12:28:34.900077Z",
     "start_time": "2019-11-06T12:28:34.399089Z"
    }
   },
   "outputs": [],
   "source": [
    "import numpy as np\n",
    "import pandas as pd\n",
    "import torch\n",
    "from torch import autograd\n",
    "\n",
    "import matplotlib.pyplot as plt"
   ]
  },
  {
   "cell_type": "markdown",
   "metadata": {},
   "source": [
    "## Зарузка данных.\n",
    "\n",
    "Стоимость недвижимости в Бостоне (новая версия)."
   ]
  },
  {
   "cell_type": "code",
   "execution_count": 8,
   "metadata": {},
   "outputs": [],
   "source": [
    "# CRIM     уровень преступности на душу населения \n",
    "# ZN       доля жилой земли, зонированной на участки площадью более 25 000 кв.футов.\n",
    "# INDUS    доля акров, не связанных с розничной торговлей, на город\n",
    "# CHAS     Charles River dummy variable (= 1 if tract bounds river; 0 otherwise)\n",
    "# NOX      концентрация оксидов азота (частей на 10 миллионов)\n",
    "# RM       среднее количество комнат в жилом помещении\n",
    "# AGE      доля жилых помещений, занятых владельцами, построенных до 1940 года\n",
    "# DIS      взвешенные расстояния до пяти бостонских центров занятости\n",
    "# RAD      индекс доступности к радиальным магистралям\n",
    "# TAX      ставка налога на недвижимость с полной стоимостью за $10,000\n",
    "# PTRATIO  соотношение учащихся и учителей по городам\n",
    "# B        1000(Bk - 0.63)^2 где Bk - доля чернокожих по городам\n",
    "# LSTAT    % населения низкого статуса\n",
    "# MEDV     Средняя стоимость домов, занятых владельцами, в 1000 долларов\n",
    "\n",
    "columns_name = ['CRIM',\n",
    "                'ZN',\n",
    "                'INDUS',\n",
    "                'CHAS',\n",
    "                'NOX',\n",
    "                'RM',\n",
    "                'AGE',\n",
    "                'DIS',\n",
    "                'RAD',\n",
    "                'TAX',\n",
    "                'PTRATIO',\n",
    "                'B',\n",
    "                'LSTAT',\n",
    "                'MEDV']"
   ]
  },
  {
   "cell_type": "code",
   "execution_count": 10,
   "metadata": {},
   "outputs": [],
   "source": [
    "data_url = \"http://lib.stat.cmu.edu/datasets/boston\"\n",
    "raw_df = pd.read_csv(data_url, sep=\"\\s+\", skiprows=22, header=None)\n",
    "data = np.hstack([raw_df.values[::2, :], raw_df.values[1::2, :3]])\n",
    "# target = raw_df.values[1::2, 2]"
   ]
  },
  {
   "cell_type": "code",
   "execution_count": 12,
   "metadata": {},
   "outputs": [
    {
     "data": {
      "text/plain": [
       "numpy.ndarray"
      ]
     },
     "execution_count": 12,
     "metadata": {},
     "output_type": "execute_result"
    }
   ],
   "source": [
    "type(data)"
   ]
  },
  {
   "cell_type": "code",
   "execution_count": null,
   "metadata": {},
   "outputs": [],
   "source": []
  },
  {
   "cell_type": "code",
   "execution_count": null,
   "metadata": {},
   "outputs": [],
   "source": []
  },
  {
   "cell_type": "code",
   "execution_count": null,
   "metadata": {},
   "outputs": [],
   "source": []
  },
  {
   "cell_type": "code",
   "execution_count": null,
   "metadata": {},
   "outputs": [],
   "source": []
  },
  {
   "cell_type": "code",
   "execution_count": null,
   "metadata": {},
   "outputs": [],
   "source": []
  },
  {
   "cell_type": "code",
   "execution_count": 2,
   "metadata": {
    "ExecuteTime": {
     "end_time": "2019-11-06T12:28:34.959876Z",
     "start_time": "2019-11-06T12:28:34.954576Z"
    }
   },
   "outputs": [
    {
     "name": "stdout",
     "output_type": "stream",
     "text": [
      "tensor([0., 1., 2., 3.])\n"
     ]
    }
   ],
   "source": [
    "x = torch.arange(4).type(torch.float)\n",
    "print(x)"
   ]
  },
  {
   "cell_type": "markdown",
   "metadata": {
    "ExecuteTime": {
     "end_time": "2019-11-06T11:20:01.003092Z",
     "start_time": "2019-11-06T11:20:00.998727Z"
    }
   },
   "source": [
    "## Присоединение градиента к `x`\n",
    "\n",
    "- Говорит системе, что мы хотим хранить градиент"
   ]
  },
  {
   "cell_type": "code",
   "execution_count": 3,
   "metadata": {
    "ExecuteTime": {
     "end_time": "2019-11-06T12:28:35.671645Z",
     "start_time": "2019-11-06T12:28:35.662681Z"
    }
   },
   "outputs": [
    {
     "data": {
      "text/plain": [
       "False"
      ]
     },
     "execution_count": 3,
     "metadata": {},
     "output_type": "execute_result"
    }
   ],
   "source": [
    "x.requires_grad"
   ]
  },
  {
   "cell_type": "code",
   "execution_count": 4,
   "metadata": {
    "ExecuteTime": {
     "end_time": "2019-11-06T12:28:35.852553Z",
     "start_time": "2019-11-06T12:28:35.849840Z"
    }
   },
   "outputs": [],
   "source": [
    "x = x.requires_grad_()"
   ]
  },
  {
   "cell_type": "code",
   "execution_count": 5,
   "metadata": {
    "ExecuteTime": {
     "end_time": "2019-11-06T12:28:36.057885Z",
     "start_time": "2019-11-06T12:28:36.053988Z"
    }
   },
   "outputs": [
    {
     "data": {
      "text/plain": [
       "True"
      ]
     },
     "execution_count": 5,
     "metadata": {},
     "output_type": "execute_result"
    }
   ],
   "source": [
    "x.requires_grad"
   ]
  },
  {
   "cell_type": "code",
   "execution_count": 6,
   "metadata": {
    "ExecuteTime": {
     "end_time": "2019-11-06T12:28:36.296476Z",
     "start_time": "2019-11-06T12:28:36.293864Z"
    }
   },
   "outputs": [],
   "source": [
    "x.grad"
   ]
  },
  {
   "cell_type": "markdown",
   "metadata": {},
   "source": [
    "## Forward\n",
    "\n",
    "вычислим \n",
    "\n",
    "$$y = 2\\mathbf{x}^{\\top}\\mathbf{x}$$"
   ]
  },
  {
   "cell_type": "code",
   "execution_count": 7,
   "metadata": {
    "ExecuteTime": {
     "end_time": "2019-11-06T12:28:36.769614Z",
     "start_time": "2019-11-06T12:28:36.697927Z"
    }
   },
   "outputs": [],
   "source": [
    "y = 2 * x.dot(x)"
   ]
  },
  {
   "cell_type": "code",
   "execution_count": 8,
   "metadata": {
    "ExecuteTime": {
     "end_time": "2019-11-06T12:28:36.898282Z",
     "start_time": "2019-11-06T12:28:36.893935Z"
    }
   },
   "outputs": [
    {
     "data": {
      "text/plain": [
       "tensor(28., grad_fn=<MulBackward0>)"
      ]
     },
     "execution_count": 8,
     "metadata": {},
     "output_type": "execute_result"
    }
   ],
   "source": [
    "y"
   ]
  },
  {
   "cell_type": "markdown",
   "metadata": {},
   "source": [
    "## Backward"
   ]
  },
  {
   "cell_type": "code",
   "execution_count": 9,
   "metadata": {
    "ExecuteTime": {
     "end_time": "2019-11-06T12:28:37.328415Z",
     "start_time": "2019-11-06T12:28:37.325308Z"
    }
   },
   "outputs": [],
   "source": [
    "y.backward()"
   ]
  },
  {
   "cell_type": "markdown",
   "metadata": {},
   "source": [
    "## Получение градиента\n",
    "\n",
    "$y = 2\\mathbf{x}^{\\top}\\mathbf{x}$, значит \n",
    "\n",
    "$$\\frac{\\partial y}{\\partial \\mathbf x} = 4\\mathbf{x}$$\n",
    "\n",
    "Проверим:"
   ]
  },
  {
   "cell_type": "code",
   "execution_count": 10,
   "metadata": {
    "ExecuteTime": {
     "end_time": "2019-11-06T12:28:37.687274Z",
     "start_time": "2019-11-06T12:28:37.682614Z"
    }
   },
   "outputs": [
    {
     "data": {
      "text/plain": [
       "tensor([ 0.,  4.,  8., 12.])"
      ]
     },
     "execution_count": 10,
     "metadata": {},
     "output_type": "execute_result"
    }
   ],
   "source": [
    "x.grad"
   ]
  },
  {
   "cell_type": "code",
   "execution_count": 11,
   "metadata": {
    "ExecuteTime": {
     "end_time": "2019-11-06T12:28:37.859164Z",
     "start_time": "2019-11-06T12:28:37.854157Z"
    }
   },
   "outputs": [
    {
     "data": {
      "text/plain": [
       "tensor([True, True, True, True])"
      ]
     },
     "execution_count": 11,
     "metadata": {},
     "output_type": "execute_result"
    }
   ],
   "source": [
    "4 * x == x.grad"
   ]
  },
  {
   "cell_type": "markdown",
   "metadata": {},
   "source": [
    "## no_grad\n",
    "\n",
    "функция no_grad позволяет отключить вычисление градиента для части кода"
   ]
  },
  {
   "cell_type": "code",
   "execution_count": 12,
   "metadata": {
    "ExecuteTime": {
     "end_time": "2019-11-06T12:28:38.455569Z",
     "start_time": "2019-11-06T12:28:38.449694Z"
    }
   },
   "outputs": [
    {
     "name": "stdout",
     "output_type": "stream",
     "text": [
      "<MulBackward0 object at 0x7f203c70b550>\n",
      "None\n"
     ]
    }
   ],
   "source": [
    "y = 2 * x.dot(x)\n",
    "print(y.grad_fn)\n",
    "with torch.no_grad():\n",
    "    y = 2 * x.dot(x)\n",
    "    print(y.grad_fn)"
   ]
  },
  {
   "cell_type": "code",
   "execution_count": 15,
   "metadata": {
    "ExecuteTime": {
     "end_time": "2019-11-06T12:28:38.864256Z",
     "start_time": "2019-11-06T12:28:38.746593Z"
    }
   },
   "outputs": [
    {
     "name": "stdout",
     "output_type": "stream",
     "text": [
      "tensor([ 0., 12., 24., 36.])\n"
     ]
    },
    {
     "ename": "RuntimeError",
     "evalue": "element 0 of tensors does not require grad and does not have a grad_fn",
     "output_type": "error",
     "traceback": [
      "\u001b[0;31m---------------------------------------------------------------------------\u001b[0m",
      "\u001b[0;31mRuntimeError\u001b[0m                              Traceback (most recent call last)",
      "Input \u001b[0;32mIn [15]\u001b[0m, in \u001b[0;36m<cell line: 4>\u001b[0;34m()\u001b[0m\n\u001b[1;32m      4\u001b[0m \u001b[38;5;28;01mwith\u001b[39;00m torch\u001b[38;5;241m.\u001b[39mno_grad():\n\u001b[1;32m      5\u001b[0m     y \u001b[38;5;241m=\u001b[39m \u001b[38;5;241m2\u001b[39m \u001b[38;5;241m*\u001b[39m x\u001b[38;5;241m.\u001b[39mdot(x)\n\u001b[0;32m----> 6\u001b[0m     \u001b[43my\u001b[49m\u001b[38;5;241;43m.\u001b[39;49m\u001b[43mbackward\u001b[49m\u001b[43m(\u001b[49m\u001b[43m)\u001b[49m\n\u001b[1;32m      7\u001b[0m     \u001b[38;5;28mprint\u001b[39m(x\u001b[38;5;241m.\u001b[39mgrad)\n",
      "File \u001b[0;32m~/.local/lib/python3.10/site-packages/torch/_tensor.py:396\u001b[0m, in \u001b[0;36mTensor.backward\u001b[0;34m(self, gradient, retain_graph, create_graph, inputs)\u001b[0m\n\u001b[1;32m    387\u001b[0m \u001b[38;5;28;01mif\u001b[39;00m has_torch_function_unary(\u001b[38;5;28mself\u001b[39m):\n\u001b[1;32m    388\u001b[0m     \u001b[38;5;28;01mreturn\u001b[39;00m handle_torch_function(\n\u001b[1;32m    389\u001b[0m         Tensor\u001b[38;5;241m.\u001b[39mbackward,\n\u001b[1;32m    390\u001b[0m         (\u001b[38;5;28mself\u001b[39m,),\n\u001b[0;32m   (...)\u001b[0m\n\u001b[1;32m    394\u001b[0m         create_graph\u001b[38;5;241m=\u001b[39mcreate_graph,\n\u001b[1;32m    395\u001b[0m         inputs\u001b[38;5;241m=\u001b[39minputs)\n\u001b[0;32m--> 396\u001b[0m \u001b[43mtorch\u001b[49m\u001b[38;5;241;43m.\u001b[39;49m\u001b[43mautograd\u001b[49m\u001b[38;5;241;43m.\u001b[39;49m\u001b[43mbackward\u001b[49m\u001b[43m(\u001b[49m\u001b[38;5;28;43mself\u001b[39;49m\u001b[43m,\u001b[49m\u001b[43m \u001b[49m\u001b[43mgradient\u001b[49m\u001b[43m,\u001b[49m\u001b[43m \u001b[49m\u001b[43mretain_graph\u001b[49m\u001b[43m,\u001b[49m\u001b[43m \u001b[49m\u001b[43mcreate_graph\u001b[49m\u001b[43m,\u001b[49m\u001b[43m \u001b[49m\u001b[43minputs\u001b[49m\u001b[38;5;241;43m=\u001b[39;49m\u001b[43minputs\u001b[49m\u001b[43m)\u001b[49m\n",
      "File \u001b[0;32m~/.local/lib/python3.10/site-packages/torch/autograd/__init__.py:173\u001b[0m, in \u001b[0;36mbackward\u001b[0;34m(tensors, grad_tensors, retain_graph, create_graph, grad_variables, inputs)\u001b[0m\n\u001b[1;32m    168\u001b[0m     retain_graph \u001b[38;5;241m=\u001b[39m create_graph\n\u001b[1;32m    170\u001b[0m \u001b[38;5;66;03m# The reason we repeat same the comment below is that\u001b[39;00m\n\u001b[1;32m    171\u001b[0m \u001b[38;5;66;03m# some Python versions print out the first line of a multi-line function\u001b[39;00m\n\u001b[1;32m    172\u001b[0m \u001b[38;5;66;03m# calls in the traceback and some print out the last line\u001b[39;00m\n\u001b[0;32m--> 173\u001b[0m \u001b[43mVariable\u001b[49m\u001b[38;5;241;43m.\u001b[39;49m\u001b[43m_execution_engine\u001b[49m\u001b[38;5;241;43m.\u001b[39;49m\u001b[43mrun_backward\u001b[49m\u001b[43m(\u001b[49m\u001b[43m  \u001b[49m\u001b[38;5;66;43;03m# Calls into the C++ engine to run the backward pass\u001b[39;49;00m\n\u001b[1;32m    174\u001b[0m \u001b[43m    \u001b[49m\u001b[43mtensors\u001b[49m\u001b[43m,\u001b[49m\u001b[43m \u001b[49m\u001b[43mgrad_tensors_\u001b[49m\u001b[43m,\u001b[49m\u001b[43m \u001b[49m\u001b[43mretain_graph\u001b[49m\u001b[43m,\u001b[49m\u001b[43m \u001b[49m\u001b[43mcreate_graph\u001b[49m\u001b[43m,\u001b[49m\u001b[43m \u001b[49m\u001b[43minputs\u001b[49m\u001b[43m,\u001b[49m\n\u001b[1;32m    175\u001b[0m \u001b[43m    \u001b[49m\u001b[43mallow_unreachable\u001b[49m\u001b[38;5;241;43m=\u001b[39;49m\u001b[38;5;28;43;01mTrue\u001b[39;49;00m\u001b[43m,\u001b[49m\u001b[43m \u001b[49m\u001b[43maccumulate_grad\u001b[49m\u001b[38;5;241;43m=\u001b[39;49m\u001b[38;5;28;43;01mTrue\u001b[39;49;00m\u001b[43m)\u001b[49m\n",
      "\u001b[0;31mRuntimeError\u001b[0m: element 0 of tensors does not require grad and does not have a grad_fn"
     ]
    }
   ],
   "source": [
    "y = 2 * x.dot(x)\n",
    "y.backward()\n",
    "print(x.grad)\n",
    "with torch.no_grad():\n",
    "    y = 2 * x.dot(x)\n",
    "    y.backward()\n",
    "    print(x.grad)"
   ]
  },
  {
   "cell_type": "markdown",
   "metadata": {},
   "source": [
    "## Гибкий граф"
   ]
  },
  {
   "cell_type": "code",
   "execution_count": 16,
   "metadata": {
    "ExecuteTime": {
     "end_time": "2019-11-06T12:28:39.549886Z",
     "start_time": "2019-11-06T12:28:39.545708Z"
    }
   },
   "outputs": [],
   "source": [
    "def f(a):\n",
    "    b = a * 2\n",
    "    while b.norm().item() < 1000:\n",
    "        b = b * 2\n",
    "    if b.sum().item() > 0:\n",
    "        c = b\n",
    "    else:\n",
    "        c = 100 * b\n",
    "    return c"
   ]
  },
  {
   "cell_type": "code",
   "execution_count": 17,
   "metadata": {
    "ExecuteTime": {
     "end_time": "2019-11-06T12:28:39.918932Z",
     "start_time": "2019-11-06T12:28:39.914266Z"
    }
   },
   "outputs": [],
   "source": [
    "a = torch.randn(1).requires_grad_()\n",
    "d = f(a)\n",
    "d.backward()"
   ]
  },
  {
   "cell_type": "code",
   "execution_count": 18,
   "metadata": {
    "ExecuteTime": {
     "end_time": "2019-11-06T12:28:40.278692Z",
     "start_time": "2019-11-06T12:28:40.272902Z"
    }
   },
   "outputs": [
    {
     "data": {
      "text/plain": [
       "tensor([1017.0656], grad_fn=<MulBackward0>)"
      ]
     },
     "execution_count": 18,
     "metadata": {},
     "output_type": "execute_result"
    }
   ],
   "source": [
    "d"
   ]
  },
  {
   "cell_type": "code",
   "execution_count": 19,
   "metadata": {
    "ExecuteTime": {
     "end_time": "2019-11-06T12:28:40.451434Z",
     "start_time": "2019-11-06T12:28:40.445811Z"
    }
   },
   "outputs": [
    {
     "data": {
      "text/plain": [
       "tensor([0.4966], requires_grad=True)"
      ]
     },
     "execution_count": 19,
     "metadata": {},
     "output_type": "execute_result"
    }
   ],
   "source": [
    "a"
   ]
  },
  {
   "cell_type": "markdown",
   "metadata": {},
   "source": [
    "## Практика\n",
    "\n",
    "1. Пусть $f(x) = \\sin(x) * x$. Постройте график $f(x)$ и $\\frac{df(x)}{dx}$ используя пакет autograd'а для расчета производных (т.е. нельзя выводить производную явно)"
   ]
  },
  {
   "cell_type": "markdown",
   "metadata": {},
   "source": [
    "## Линейная регрессия с нуля"
   ]
  },
  {
   "cell_type": "code",
   "execution_count": 20,
   "metadata": {
    "ExecuteTime": {
     "end_time": "2019-11-06T13:41:58.143546Z",
     "start_time": "2019-11-06T13:41:58.139013Z"
    }
   },
   "outputs": [],
   "source": [
    "%matplotlib inline\n",
    "from IPython import display\n",
    "from matplotlib import pyplot as plt\n",
    "import torch\n",
    "import random"
   ]
  },
  {
   "cell_type": "markdown",
   "metadata": {},
   "source": [
    "## Генерируем данные\n",
    "\n",
    "- Случайно генерируем $\\mathbf{X}\\in \\mathbb{R}^{1000 \\times 2}$\n",
    "- Выбираем значения весов (истинные): $\\mathbf{w} = [2, -3.4]^\\top$ и свободного члена $b = 4.2$\n",
    "- Генерируем метки по формле $\\mathbf{y}= \\mathbf{X} \\mathbf{w} + b + \\mathbf\\epsilon$\n",
    "  с шумом $\\epsilon$ нормально распределнным с мат ожиданием 0 и дисперсией 1"
   ]
  },
  {
   "cell_type": "code",
   "execution_count": 21,
   "metadata": {
    "ExecuteTime": {
     "end_time": "2019-11-06T13:41:58.582953Z",
     "start_time": "2019-11-06T13:41:58.578569Z"
    }
   },
   "outputs": [],
   "source": [
    "num_inputs = 2\n",
    "num_examples = 1000\n",
    "true_w = torch.tensor([2, -3.4])\n",
    "true_b = 4.2\n",
    "features = torch.randn((num_examples, num_inputs))\n",
    "labels = torch.mv(features, true_w) + true_b\n",
    "labels += torch.randn(labels.shape)"
   ]
  },
  {
   "cell_type": "markdown",
   "metadata": {},
   "source": [
    "## Визуализируем данные"
   ]
  },
  {
   "cell_type": "code",
   "execution_count": 22,
   "metadata": {
    "ExecuteTime": {
     "end_time": "2019-11-06T13:41:59.728821Z",
     "start_time": "2019-11-06T13:41:59.450748Z"
    }
   },
   "outputs": [
    {
     "data": {
      "image/png": "[encoded data removed]",
      "text/plain": [
       "<Figure size 864x288 with 3 Axes>"
      ]
     },
     "metadata": {
      "needs_background": "light"
     },
     "output_type": "display_data"
    }
   ],
   "source": [
    "plt.figure(figsize=(12, 4))\n",
    "plt.subplot(131)\n",
    "plt.scatter(features[:, 0], labels, 1)\n",
    "plt.subplot(132)\n",
    "plt.scatter(features[:, 1], labels, 1)\n",
    "plt.subplot(133)\n",
    "plt.scatter(features[:, 0], features[:, 1], 1)\n",
    "plt.show()"
   ]
  },
  {
   "cell_type": "markdown",
   "metadata": {},
   "source": [
    "## Чтение данных\n",
    "\n",
    "Итерируемся по датасету и возвращаем случаные `batch_size` примеров."
   ]
  },
  {
   "cell_type": "code",
   "execution_count": 23,
   "metadata": {
    "ExecuteTime": {
     "end_time": "2019-11-06T13:44:23.740404Z",
     "start_time": "2019-11-06T13:44:23.735805Z"
    }
   },
   "outputs": [],
   "source": [
    "def data_iter(batch_size, features, labels):\n",
    "    num_examples = len(features)\n",
    "    indices = list(range(num_examples))\n",
    "    # The examples are read at random, in no particular order\n",
    "    random.shuffle(indices)\n",
    "    for i in range(0, num_examples, batch_size):\n",
    "        j = indices[i: min(i + batch_size, num_examples)]\n",
    "        yield features[j, :], labels[j]"
   ]
  },
  {
   "cell_type": "markdown",
   "metadata": {},
   "source": [
    "## Выводим маленький батч"
   ]
  },
  {
   "cell_type": "code",
   "execution_count": 24,
   "metadata": {
    "ExecuteTime": {
     "end_time": "2019-11-06T13:44:24.381466Z",
     "start_time": "2019-11-06T13:44:24.374974Z"
    }
   },
   "outputs": [
    {
     "name": "stdout",
     "output_type": "stream",
     "text": [
      "tensor([[-1.0863, -0.6249],\n",
      "        [-1.5820, -0.1916],\n",
      "        [ 1.6020,  2.0665],\n",
      "        [ 0.9247,  0.3049],\n",
      "        [ 0.2413,  0.1428],\n",
      "        [ 1.1201, -1.5100],\n",
      "        [-0.6600,  1.2016],\n",
      "        [ 0.2746, -0.4084],\n",
      "        [ 0.1540,  0.1386],\n",
      "        [ 0.5785, -0.9434]]) tensor([ 3.4596,  1.8752,  0.7951,  5.1091,  6.2787, 10.5065, -0.6251,  4.0188,\n",
      "         5.0797,  9.0937])\n"
     ]
    }
   ],
   "source": [
    "batch_size = 10\n",
    "for X, y in data_iter(batch_size, features, labels):\n",
    "    print(X, y)\n",
    "    break"
   ]
  },
  {
   "cell_type": "markdown",
   "metadata": {},
   "source": [
    "### Создаем нашу модель для обучения"
   ]
  },
  {
   "cell_type": "code",
   "execution_count": 25,
   "metadata": {
    "ExecuteTime": {
     "end_time": "2019-11-06T13:44:35.605746Z",
     "start_time": "2019-11-06T13:44:35.602589Z"
    }
   },
   "outputs": [],
   "source": [
    "w = torch.randn((num_inputs))\n",
    "b = torch.zeros((1,))"
   ]
  },
  {
   "cell_type": "code",
   "execution_count": 26,
   "metadata": {
    "ExecuteTime": {
     "end_time": "2019-11-06T13:44:35.952828Z",
     "start_time": "2019-11-06T13:44:35.947688Z"
    }
   },
   "outputs": [
    {
     "data": {
      "text/plain": [
       "tensor([0.], requires_grad=True)"
      ]
     },
     "execution_count": 26,
     "metadata": {},
     "output_type": "execute_result"
    }
   ],
   "source": [
    "w.requires_grad_()\n",
    "b.requires_grad_()"
   ]
  },
  {
   "cell_type": "markdown",
   "metadata": {},
   "source": [
    "## Практика - реализуйте функции:\n",
    "- linreg - применение модели линейной регресии\n",
    "- squared_loss - MSE функция потерь\n",
    "- sgd - стохастический шаг градиентного спуска по массиву параметров\n",
    "\n",
    "и допишите код обучения линейной регрессии"
   ]
  },
  {
   "cell_type": "code",
   "execution_count": 27,
   "metadata": {
    "ExecuteTime": {
     "end_time": "2019-11-06T15:13:29.281855Z",
     "start_time": "2019-11-06T15:13:29.277830Z"
    }
   },
   "outputs": [
    {
     "ename": "SyntaxError",
     "evalue": "incomplete input (468068021.py, line 1)",
     "output_type": "error",
     "traceback": [
      "\u001b[0;36m  Input \u001b[0;32mIn [27]\u001b[0;36m\u001b[0m\n\u001b[0;31m    def linreg(X, w, b):\u001b[0m\n\u001b[0m                        ^\u001b[0m\n\u001b[0;31mSyntaxError\u001b[0m\u001b[0;31m:\u001b[0m incomplete input\n"
     ]
    }
   ],
   "source": [
    "def linreg(X, w, b):"
   ]
  },
  {
   "cell_type": "markdown",
   "metadata": {},
   "source": [
    "### Обучение"
   ]
  },
  {
   "cell_type": "code",
   "execution_count": 28,
   "metadata": {
    "ExecuteTime": {
     "end_time": "2019-11-06T15:13:33.228353Z",
     "start_time": "2019-11-06T15:13:33.224154Z"
    }
   },
   "outputs": [
    {
     "ename": "SyntaxError",
     "evalue": "incomplete input (3276562676.py, line 1)",
     "output_type": "error",
     "traceback": [
      "\u001b[0;36m  Input \u001b[0;32mIn [28]\u001b[0;36m\u001b[0m\n\u001b[0;31m    def squared_loss(y_hat, y):\u001b[0m\n\u001b[0m                               ^\u001b[0m\n\u001b[0;31mSyntaxError\u001b[0m\u001b[0;31m:\u001b[0m incomplete input\n"
     ]
    }
   ],
   "source": [
    "def squared_loss(y_hat, y):"
   ]
  },
  {
   "cell_type": "code",
   "execution_count": 29,
   "metadata": {
    "ExecuteTime": {
     "end_time": "2019-11-06T15:13:37.923800Z",
     "start_time": "2019-11-06T15:13:37.919934Z"
    }
   },
   "outputs": [
    {
     "ename": "SyntaxError",
     "evalue": "incomplete input (3076052398.py, line 1)",
     "output_type": "error",
     "traceback": [
      "\u001b[0;36m  Input \u001b[0;32mIn [29]\u001b[0;36m\u001b[0m\n\u001b[0;31m    def sgd(params, lr, batch_size):\u001b[0m\n\u001b[0m                                    ^\u001b[0m\n\u001b[0;31mSyntaxError\u001b[0m\u001b[0;31m:\u001b[0m incomplete input\n"
     ]
    }
   ],
   "source": [
    "def sgd(params, lr, batch_size):"
   ]
  },
  {
   "cell_type": "code",
   "execution_count": 30,
   "metadata": {
    "ExecuteTime": {
     "end_time": "2019-11-06T15:14:17.300010Z",
     "start_time": "2019-11-06T15:14:17.288404Z"
    }
   },
   "outputs": [
    {
     "ename": "NameError",
     "evalue": "name 'squared_loss' is not defined",
     "output_type": "error",
     "traceback": [
      "\u001b[0;31m---------------------------------------------------------------------------\u001b[0m",
      "\u001b[0;31mNameError\u001b[0m                                 Traceback (most recent call last)",
      "Input \u001b[0;32mIn [30]\u001b[0m, in \u001b[0;36m<cell line: 4>\u001b[0;34m()\u001b[0m\n\u001b[1;32m      9\u001b[0m     b\u001b[38;5;241m.\u001b[39mrequires_grad_()\n\u001b[1;32m     11\u001b[0m     \u001b[38;5;66;03m#\u001b[39;00m\n\u001b[1;32m     12\u001b[0m     \u001b[38;5;66;03m# ТУТ КОД \u001b[39;00m\n\u001b[1;32m     13\u001b[0m     \u001b[38;5;66;03m#\u001b[39;00m\n\u001b[0;32m---> 15\u001b[0m train_l \u001b[38;5;241m=\u001b[39m \u001b[43msquared_loss\u001b[49m(linreg(features, w, b), labels)\n\u001b[1;32m     16\u001b[0m \u001b[38;5;28mprint\u001b[39m(\u001b[38;5;124m'\u001b[39m\u001b[38;5;124mepoch \u001b[39m\u001b[38;5;132;01m%d\u001b[39;00m\u001b[38;5;124m, loss \u001b[39m\u001b[38;5;132;01m%f\u001b[39;00m\u001b[38;5;124m'\u001b[39m \u001b[38;5;241m%\u001b[39m (epoch \u001b[38;5;241m+\u001b[39m \u001b[38;5;241m1\u001b[39m, train_l\u001b[38;5;241m.\u001b[39mmean()\u001b[38;5;241m.\u001b[39mitem()))\n",
      "\u001b[0;31mNameError\u001b[0m: name 'squared_loss' is not defined"
     ]
    }
   ],
   "source": [
    "lr = 0.01  \n",
    "num_epochs = 10\n",
    "\n",
    "for epoch in range(num_epochs):\n",
    "    for X, y in data_iter(batch_size, features, labels):   \n",
    "        w = w.detach()\n",
    "        b = b.detach()\n",
    "        w.requires_grad_()\n",
    "        b.requires_grad_()\n",
    "        \n",
    "        #\n",
    "        # ТУТ КОД \n",
    "        #\n",
    "\n",
    "    train_l = squared_loss(linreg(features, w, b), labels)\n",
    "    print('epoch %d, loss %f' % (epoch + 1, train_l.mean().item()))"
   ]
  },
  {
   "cell_type": "markdown",
   "metadata": {},
   "source": [
    "## Оценка качества модели"
   ]
  },
  {
   "cell_type": "code",
   "execution_count": 31,
   "metadata": {
    "ExecuteTime": {
     "end_time": "2019-11-06T13:44:40.439545Z",
     "start_time": "2019-11-06T13:44:40.432550Z"
    }
   },
   "outputs": [
    {
     "name": "stdout",
     "output_type": "stream",
     "text": [
      "Error in estimating w tensor([ 2.9522, -4.7263], grad_fn=<SubBackward0>)\n",
      "Error in estimating b tensor([4.2000], grad_fn=<RsubBackward1>)\n",
      "tensor([-0.9522,  1.3263], requires_grad=True)\n",
      "tensor([0.], requires_grad=True)\n"
     ]
    }
   ],
   "source": [
    "print('Error in estimating w', true_w - w.reshape(true_w.shape))\n",
    "print('Error in estimating b', true_b - b)\n",
    "print(w)\n",
    "print(b)"
   ]
  },
  {
   "cell_type": "markdown",
   "metadata": {
    "ExecuteTime": {
     "end_time": "2019-11-06T12:40:23.439886Z",
     "start_time": "2019-11-06T12:40:23.437308Z"
    }
   },
   "source": [
    "## Линейная регрессия на torch"
   ]
  },
  {
   "cell_type": "code",
   "execution_count": 32,
   "metadata": {
    "ExecuteTime": {
     "end_time": "2019-11-06T13:52:12.812804Z",
     "start_time": "2019-11-06T13:52:12.809805Z"
    }
   },
   "outputs": [],
   "source": [
    "from torch.utils.data import TensorDataset, DataLoader"
   ]
  },
  {
   "cell_type": "code",
   "execution_count": 33,
   "metadata": {
    "ExecuteTime": {
     "end_time": "2019-11-06T13:52:13.120962Z",
     "start_time": "2019-11-06T13:52:13.116472Z"
    }
   },
   "outputs": [],
   "source": [
    "num_inputs = 2\n",
    "num_examples = 1000\n",
    "true_w = torch.tensor([2, -3.4])\n",
    "true_b = 4.2\n",
    "features = torch.randn((num_examples, num_inputs))\n",
    "labels = torch.mv(features, true_w) + true_b\n",
    "labels += torch.randn(labels.shape)"
   ]
  },
  {
   "cell_type": "code",
   "execution_count": 34,
   "metadata": {
    "ExecuteTime": {
     "end_time": "2019-11-06T13:52:13.355499Z",
     "start_time": "2019-11-06T13:52:13.348636Z"
    }
   },
   "outputs": [
    {
     "name": "stdout",
     "output_type": "stream",
     "text": [
      "tensor([[-0.2670,  0.3546],\n",
      "        [-0.5627, -0.4120],\n",
      "        [ 0.5638, -1.3643],\n",
      "        [ 1.1191,  1.4518],\n",
      "        [-0.0628,  0.1485],\n",
      "        [ 0.7852,  0.4838],\n",
      "        [ 0.4935, -0.5786],\n",
      "        [-0.6270, -1.0029],\n",
      "        [-0.2124, -1.0249],\n",
      "        [ 0.7296,  0.8066]]) tensor([ 1.5079,  5.7120, 10.4150,  0.2680,  5.1266,  4.6874,  8.1546,  7.3353,\n",
      "         7.2518,  3.3851])\n"
     ]
    }
   ],
   "source": [
    "batch_size = 10\n",
    "dataset = TensorDataset(features, labels)\n",
    "# Randomly reading mini-batches\n",
    "data_iter = DataLoader(dataset, batch_size, shuffle=True)\n",
    "\n",
    "# Read a batch to see how it works\n",
    "for X, y in data_iter:\n",
    "    print(X, y)\n",
    "    break"
   ]
  },
  {
   "cell_type": "code",
   "execution_count": 35,
   "metadata": {
    "ExecuteTime": {
     "end_time": "2019-11-06T15:01:54.637870Z",
     "start_time": "2019-11-06T15:01:54.634430Z"
    }
   },
   "outputs": [],
   "source": [
    "model = torch.nn.Sequential(torch.nn.Linear(2, 1))"
   ]
  },
  {
   "cell_type": "code",
   "execution_count": 36,
   "metadata": {
    "ExecuteTime": {
     "end_time": "2019-11-06T15:00:35.708316Z",
     "start_time": "2019-11-06T15:00:35.704362Z"
    },
    "scrolled": true
   },
   "outputs": [],
   "source": [
    "model[0].weight.data = true_w.clone().detach().requires_grad_(True).reshape((1, 2))\n",
    "model[0].bias.data = torch.tensor([true_b], requires_grad = True)"
   ]
  },
  {
   "cell_type": "code",
   "execution_count": 37,
   "metadata": {
    "ExecuteTime": {
     "end_time": "2019-11-06T15:01:56.233161Z",
     "start_time": "2019-11-06T15:01:56.230196Z"
    }
   },
   "outputs": [],
   "source": [
    "loss = torch.nn.MSELoss(reduction='mean')"
   ]
  },
  {
   "cell_type": "code",
   "execution_count": 38,
   "metadata": {
    "ExecuteTime": {
     "end_time": "2019-11-06T15:01:59.643238Z",
     "start_time": "2019-11-06T15:01:59.640268Z"
    }
   },
   "outputs": [],
   "source": [
    "trainer = torch.optim.SGD(model.parameters(), lr=0.001)"
   ]
  },
  {
   "cell_type": "code",
   "execution_count": 39,
   "metadata": {
    "ExecuteTime": {
     "end_time": "2019-11-06T15:02:03.375656Z",
     "start_time": "2019-11-06T15:02:00.252186Z"
    }
   },
   "outputs": [
    {
     "name": "stdout",
     "output_type": "stream",
     "text": [
      "epoch 1, loss: 0.940392\n",
      "w tensor([[ 1.9968, -3.3984]])\n",
      "b tensor([4.2041])\n",
      "epoch 2, loss: 0.940225\n",
      "w tensor([[ 1.9952, -3.3972]])\n",
      "b tensor([4.2077])\n",
      "epoch 3, loss: 0.940101\n",
      "w tensor([[ 1.9933, -3.3958]])\n",
      "b tensor([4.2106])\n",
      "epoch 4, loss: 0.940039\n",
      "w tensor([[ 1.9924, -3.3951]])\n",
      "b tensor([4.2126])\n",
      "epoch 5, loss: 0.939988\n",
      "w tensor([[ 1.9915, -3.3940]])\n",
      "b tensor([4.2145])\n",
      "epoch 6, loss: 0.939953\n",
      "w tensor([[ 1.9905, -3.3933]])\n",
      "b tensor([4.2160])\n",
      "epoch 7, loss: 0.939928\n",
      "w tensor([[ 1.9892, -3.3927]])\n",
      "b tensor([4.2169])\n",
      "epoch 8, loss: 0.939909\n",
      "w tensor([[ 1.9881, -3.3927]])\n",
      "b tensor([4.2181])\n",
      "epoch 9, loss: 0.939907\n",
      "w tensor([[ 1.9882, -3.3924]])\n",
      "b tensor([4.2183])\n",
      "epoch 10, loss: 0.939896\n",
      "w tensor([[ 1.9879, -3.3922]])\n",
      "b tensor([4.2197])\n",
      "epoch 11, loss: 0.939892\n",
      "w tensor([[ 1.9878, -3.3918]])\n",
      "b tensor([4.2202])\n",
      "epoch 12, loss: 0.939889\n",
      "w tensor([[ 1.9874, -3.3923]])\n",
      "b tensor([4.2207])\n",
      "epoch 13, loss: 0.939887\n",
      "w tensor([[ 1.9872, -3.3924]])\n",
      "b tensor([4.2211])\n",
      "epoch 14, loss: 0.939884\n",
      "w tensor([[ 1.9865, -3.3919]])\n",
      "b tensor([4.2213])\n",
      "epoch 15, loss: 0.939883\n",
      "w tensor([[ 1.9864, -3.3922]])\n",
      "b tensor([4.2215])\n",
      "epoch 16, loss: 0.939882\n",
      "w tensor([[ 1.9860, -3.3920]])\n",
      "b tensor([4.2213])\n",
      "epoch 17, loss: 0.939881\n",
      "w tensor([[ 1.9855, -3.3915]])\n",
      "b tensor([4.2217])\n",
      "epoch 18, loss: 0.939881\n",
      "w tensor([[ 1.9860, -3.3917]])\n",
      "b tensor([4.2217])\n",
      "epoch 19, loss: 0.939881\n",
      "w tensor([[ 1.9859, -3.3916]])\n",
      "b tensor([4.2219])\n",
      "epoch 20, loss: 0.939881\n",
      "w tensor([[ 1.9857, -3.3916]])\n",
      "b tensor([4.2216])\n",
      "epoch 21, loss: 0.939881\n",
      "w tensor([[ 1.9854, -3.3915]])\n",
      "b tensor([4.2216])\n",
      "epoch 22, loss: 0.939880\n",
      "w tensor([[ 1.9849, -3.3918]])\n",
      "b tensor([4.2216])\n",
      "epoch 23, loss: 0.939880\n",
      "w tensor([[ 1.9848, -3.3919]])\n",
      "b tensor([4.2218])\n",
      "epoch 24, loss: 0.939881\n",
      "w tensor([[ 1.9847, -3.3921]])\n",
      "b tensor([4.2215])\n",
      "epoch 25, loss: 0.939880\n",
      "w tensor([[ 1.9845, -3.3921]])\n",
      "b tensor([4.2221])\n",
      "epoch 26, loss: 0.939881\n",
      "w tensor([[ 1.9842, -3.3925]])\n",
      "b tensor([4.2220])\n",
      "epoch 27, loss: 0.939880\n",
      "w tensor([[ 1.9845, -3.3923]])\n",
      "b tensor([4.2223])\n",
      "epoch 28, loss: 0.939880\n",
      "w tensor([[ 1.9847, -3.3924]])\n",
      "b tensor([4.2221])\n",
      "epoch 29, loss: 0.939880\n",
      "w tensor([[ 1.9846, -3.3924]])\n",
      "b tensor([4.2223])\n",
      "epoch 30, loss: 0.939880\n",
      "w tensor([[ 1.9846, -3.3920]])\n",
      "b tensor([4.2221])\n",
      "epoch 31, loss: 0.939880\n",
      "w tensor([[ 1.9845, -3.3921]])\n",
      "b tensor([4.2224])\n",
      "epoch 32, loss: 0.939880\n",
      "w tensor([[ 1.9850, -3.3916]])\n",
      "b tensor([4.2226])\n",
      "epoch 33, loss: 0.939880\n",
      "w tensor([[ 1.9851, -3.3911]])\n",
      "b tensor([4.2224])\n",
      "epoch 34, loss: 0.939880\n",
      "w tensor([[ 1.9850, -3.3916]])\n",
      "b tensor([4.2225])\n",
      "epoch 35, loss: 0.939880\n",
      "w tensor([[ 1.9847, -3.3916]])\n",
      "b tensor([4.2224])\n",
      "epoch 36, loss: 0.939881\n",
      "w tensor([[ 1.9841, -3.3919]])\n",
      "b tensor([4.2219])\n",
      "epoch 37, loss: 0.939880\n",
      "w tensor([[ 1.9847, -3.3916]])\n",
      "b tensor([4.2217])\n",
      "epoch 38, loss: 0.939880\n",
      "w tensor([[ 1.9849, -3.3916]])\n",
      "b tensor([4.2216])\n",
      "epoch 39, loss: 0.939880\n",
      "w tensor([[ 1.9850, -3.3920]])\n",
      "b tensor([4.2218])\n",
      "epoch 40, loss: 0.939881\n",
      "w tensor([[ 1.9853, -3.3920]])\n",
      "b tensor([4.2216])\n",
      "epoch 41, loss: 0.939881\n",
      "w tensor([[ 1.9857, -3.3918]])\n",
      "b tensor([4.2218])\n",
      "epoch 42, loss: 0.939881\n",
      "w tensor([[ 1.9857, -3.3915]])\n",
      "b tensor([4.2215])\n",
      "epoch 43, loss: 0.939882\n",
      "w tensor([[ 1.9857, -3.3916]])\n",
      "b tensor([4.2212])\n",
      "epoch 44, loss: 0.939881\n",
      "w tensor([[ 1.9855, -3.3909]])\n",
      "b tensor([4.2217])\n",
      "epoch 45, loss: 0.939882\n",
      "w tensor([[ 1.9858, -3.3910]])\n",
      "b tensor([4.2216])\n",
      "epoch 46, loss: 0.939881\n",
      "w tensor([[ 1.9855, -3.3914]])\n",
      "b tensor([4.2215])\n",
      "epoch 47, loss: 0.939881\n",
      "w tensor([[ 1.9857, -3.3909]])\n",
      "b tensor([4.2223])\n",
      "epoch 48, loss: 0.939880\n",
      "w tensor([[ 1.9854, -3.3915]])\n",
      "b tensor([4.2222])\n",
      "epoch 49, loss: 0.939881\n",
      "w tensor([[ 1.9855, -3.3914]])\n",
      "b tensor([4.2216])\n",
      "epoch 50, loss: 0.939881\n",
      "w tensor([[ 1.9859, -3.3917]])\n",
      "b tensor([4.2222])\n",
      "epoch 51, loss: 0.939880\n",
      "w tensor([[ 1.9855, -3.3921]])\n",
      "b tensor([4.2222])\n",
      "epoch 52, loss: 0.939881\n",
      "w tensor([[ 1.9852, -3.3926]])\n",
      "b tensor([4.2219])\n",
      "epoch 53, loss: 0.939880\n",
      "w tensor([[ 1.9854, -3.3925]])\n",
      "b tensor([4.2224])\n",
      "epoch 54, loss: 0.939882\n",
      "w tensor([[ 1.9861, -3.3917]])\n",
      "b tensor([4.2233])\n",
      "epoch 55, loss: 0.939881\n",
      "w tensor([[ 1.9855, -3.3920]])\n",
      "b tensor([4.2233])\n",
      "epoch 56, loss: 0.939881\n",
      "w tensor([[ 1.9856, -3.3918]])\n",
      "b tensor([4.2231])\n",
      "epoch 57, loss: 0.939881\n",
      "w tensor([[ 1.9858, -3.3915]])\n",
      "b tensor([4.2230])\n",
      "epoch 58, loss: 0.939882\n",
      "w tensor([[ 1.9863, -3.3910]])\n",
      "b tensor([4.2227])\n",
      "epoch 59, loss: 0.939881\n",
      "w tensor([[ 1.9860, -3.3916]])\n",
      "b tensor([4.2227])\n",
      "epoch 60, loss: 0.939881\n",
      "w tensor([[ 1.9859, -3.3912]])\n",
      "b tensor([4.2224])\n",
      "epoch 61, loss: 0.939880\n",
      "w tensor([[ 1.9855, -3.3911]])\n",
      "b tensor([4.2222])\n",
      "epoch 62, loss: 0.939880\n",
      "w tensor([[ 1.9851, -3.3911]])\n",
      "b tensor([4.2219])\n",
      "epoch 63, loss: 0.939880\n",
      "w tensor([[ 1.9853, -3.3914]])\n",
      "b tensor([4.2221])\n",
      "epoch 64, loss: 0.939880\n",
      "w tensor([[ 1.9847, -3.3920]])\n",
      "b tensor([4.2218])\n",
      "epoch 65, loss: 0.939880\n",
      "w tensor([[ 1.9843, -3.3919]])\n",
      "b tensor([4.2221])\n",
      "epoch 66, loss: 0.939881\n",
      "w tensor([[ 1.9846, -3.3925]])\n",
      "b tensor([4.2217])\n",
      "epoch 67, loss: 0.939880\n",
      "w tensor([[ 1.9853, -3.3922]])\n",
      "b tensor([4.2218])\n",
      "epoch 68, loss: 0.939881\n",
      "w tensor([[ 1.9850, -3.3924]])\n",
      "b tensor([4.2215])\n",
      "epoch 69, loss: 0.939881\n",
      "w tensor([[ 1.9851, -3.3925]])\n",
      "b tensor([4.2214])\n",
      "epoch 70, loss: 0.939882\n",
      "w tensor([[ 1.9856, -3.3921]])\n",
      "b tensor([4.2210])\n",
      "epoch 71, loss: 0.939882\n",
      "w tensor([[ 1.9855, -3.3920]])\n",
      "b tensor([4.2212])\n",
      "epoch 72, loss: 0.939880\n",
      "w tensor([[ 1.9856, -3.3916]])\n",
      "b tensor([4.2219])\n",
      "epoch 73, loss: 0.939881\n",
      "w tensor([[ 1.9855, -3.3914]])\n",
      "b tensor([4.2219])\n",
      "epoch 74, loss: 0.939880\n",
      "w tensor([[ 1.9852, -3.3918]])\n",
      "b tensor([4.2217])\n",
      "epoch 75, loss: 0.939880\n",
      "w tensor([[ 1.9849, -3.3916]])\n",
      "b tensor([4.2220])\n",
      "epoch 76, loss: 0.939880\n",
      "w tensor([[ 1.9851, -3.3918]])\n",
      "b tensor([4.2220])\n",
      "epoch 77, loss: 0.939880\n",
      "w tensor([[ 1.9855, -3.3920]])\n",
      "b tensor([4.2224])\n",
      "epoch 78, loss: 0.939880\n",
      "w tensor([[ 1.9850, -3.3921]])\n",
      "b tensor([4.2223])\n",
      "epoch 79, loss: 0.939880\n",
      "w tensor([[ 1.9851, -3.3918]])\n",
      "b tensor([4.2226])\n",
      "epoch 80, loss: 0.939880\n",
      "w tensor([[ 1.9849, -3.3924]])\n",
      "b tensor([4.2221])\n",
      "epoch 81, loss: 0.939880\n",
      "w tensor([[ 1.9846, -3.3924]])\n",
      "b tensor([4.2220])\n",
      "epoch 82, loss: 0.939881\n",
      "w tensor([[ 1.9849, -3.3925]])\n",
      "b tensor([4.2217])\n",
      "epoch 83, loss: 0.939881\n",
      "w tensor([[ 1.9850, -3.3927]])\n",
      "b tensor([4.2216])\n",
      "epoch 84, loss: 0.939881\n",
      "w tensor([[ 1.9850, -3.3926]])\n",
      "b tensor([4.2218])\n",
      "epoch 85, loss: 0.939881\n",
      "w tensor([[ 1.9850, -3.3929]])\n",
      "b tensor([4.2219])\n",
      "epoch 86, loss: 0.939882\n",
      "w tensor([[ 1.9850, -3.3927]])\n",
      "b tensor([4.2213])\n",
      "epoch 87, loss: 0.939881\n",
      "w tensor([[ 1.9854, -3.3924]])\n",
      "b tensor([4.2216])\n",
      "epoch 88, loss: 0.939881\n",
      "w tensor([[ 1.9851, -3.3919]])\n",
      "b tensor([4.2215])\n",
      "epoch 89, loss: 0.939880\n",
      "w tensor([[ 1.9853, -3.3917]])\n",
      "b tensor([4.2217])\n",
      "epoch 90, loss: 0.939880\n",
      "w tensor([[ 1.9848, -3.3919]])\n",
      "b tensor([4.2218])\n",
      "epoch 91, loss: 0.939882\n",
      "w tensor([[ 1.9840, -3.3922]])\n",
      "b tensor([4.2215])\n",
      "epoch 92, loss: 0.939880\n",
      "w tensor([[ 1.9845, -3.3920]])\n",
      "b tensor([4.2222])\n",
      "epoch 93, loss: 0.939880\n",
      "w tensor([[ 1.9846, -3.3920]])\n",
      "b tensor([4.2223])\n",
      "epoch 94, loss: 0.939880\n",
      "w tensor([[ 1.9848, -3.3914]])\n",
      "b tensor([4.2220])\n",
      "epoch 95, loss: 0.939880\n",
      "w tensor([[ 1.9852, -3.3923]])\n",
      "b tensor([4.2221])\n",
      "epoch 96, loss: 0.939880\n",
      "w tensor([[ 1.9852, -3.3916]])\n",
      "b tensor([4.2222])\n",
      "epoch 97, loss: 0.939880\n",
      "w tensor([[ 1.9852, -3.3919]])\n",
      "b tensor([4.2222])\n",
      "epoch 98, loss: 0.939880\n",
      "w tensor([[ 1.9850, -3.3919]])\n",
      "b tensor([4.2220])\n",
      "epoch 99, loss: 0.939880\n",
      "w tensor([[ 1.9852, -3.3917]])\n",
      "b tensor([4.2220])\n",
      "epoch 100, loss: 0.939880\n",
      "w tensor([[ 1.9847, -3.3917]])\n",
      "b tensor([4.2225])\n"
     ]
    }
   ],
   "source": [
    "num_epochs = 100\n",
    "for epoch in range(1, num_epochs + 1):\n",
    "    for X, y in data_iter:\n",
    "        trainer.zero_grad()\n",
    "        l = loss(model.forward(X).reshape(-1), y)\n",
    "        l.backward()\n",
    "        trainer.step()\n",
    "    l = loss(model.forward(features).reshape(-1), labels)\n",
    "    print('epoch %d, loss: %f' % (epoch, l.item()))\n",
    "    print('w', model[0].weight.data)\n",
    "    print('b', model[0].bias.data)"
   ]
  },
  {
   "cell_type": "code",
   "execution_count": 435,
   "metadata": {
    "ExecuteTime": {
     "end_time": "2019-11-06T15:02:10.986551Z",
     "start_time": "2019-11-06T15:02:10.979650Z"
    }
   },
   "outputs": [
    {
     "name": "stdout",
     "output_type": "stream",
     "text": [
      "Error in estimating w tensor([[0.0119, 0.0260]])\n",
      "Error in estimating b tensor([-0.0006])\n"
     ]
    }
   ],
   "source": [
    "w = model[0].weight.data\n",
    "print('Error in estimating w', true_w.reshape(w.shape) - w)\n",
    "b = model[0].bias.data\n",
    "print('Error in estimating b', true_b - b)"
   ]
  },
  {
   "cell_type": "code",
   "execution_count": 436,
   "metadata": {
    "ExecuteTime": {
     "end_time": "2019-11-06T15:02:16.070126Z",
     "start_time": "2019-11-06T15:02:16.064827Z"
    }
   },
   "outputs": [
    {
     "data": {
      "text/plain": [
       "tensor([[ 1.9881, -3.4260]])"
      ]
     },
     "execution_count": 436,
     "metadata": {},
     "output_type": "execute_result"
    }
   ],
   "source": [
    "model[0].weight.data"
   ]
  },
  {
   "cell_type": "code",
   "execution_count": 437,
   "metadata": {
    "ExecuteTime": {
     "end_time": "2019-11-06T15:02:22.387394Z",
     "start_time": "2019-11-06T15:02:22.381962Z"
    }
   },
   "outputs": [
    {
     "data": {
      "text/plain": [
       "tensor([4.2006])"
      ]
     },
     "execution_count": 437,
     "metadata": {},
     "output_type": "execute_result"
    }
   ],
   "source": [
    "model[0].bias.data"
   ]
  },
  {
   "cell_type": "markdown",
   "metadata": {},
   "source": [
    "# Наивный байесовский классификатор."
   ]
  },
  {
   "cell_type": "code",
   "execution_count": null,
   "metadata": {},
   "outputs": [],
   "source": []
  }
 ],
 "metadata": {
  "kernelspec": {
   "display_name": "Python 3 (ipykernel)",
   "language": "python",
   "name": "python3"
  },
  "language_info": {
   "codemirror_mode": {
    "name": "ipython",
    "version": 3
   },
   "file_extension": ".py",
   "mimetype": "text/x-python",
   "name": "python",
   "nbconvert_exporter": "python",
   "pygments_lexer": "ipython3",
   "version": "3.10.4"
  }
 },
 "nbformat": 4,
 "nbformat_minor": 4
}
